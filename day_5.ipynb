{
 "cells": [
  {
   "cell_type": "code",
   "execution_count": 1,
   "id": "7d0b6317-a59d-4770-8491-9009d07e1772",
   "metadata": {},
   "outputs": [],
   "source": [
    "import numpy as np"
   ]
  },
  {
   "cell_type": "code",
   "execution_count": 3,
   "id": "221a607c-4fc4-483f-821a-46a91f2b8cf1",
   "metadata": {},
   "outputs": [
    {
     "data": {
      "text/plain": [
       "array([[19, 14, 13, 18, 19],\n",
       "       [10, 17, 10, 12, 12],\n",
       "       [14, 10, 11, 16, 11],\n",
       "       [14, 13, 17, 19, 10]])"
      ]
     },
     "execution_count": 3,
     "metadata": {},
     "output_type": "execute_result"
    }
   ],
   "source": [
    "x=np.random.randint(10,20,size=(4,5))\n",
    "x"
   ]
  },
  {
   "cell_type": "code",
   "execution_count": 5,
   "id": "b4013290-6abd-4064-9498-e528471b25ea",
   "metadata": {},
   "outputs": [
    {
     "data": {
      "text/plain": [
       "array([[13, 14, 18, 19, 19],\n",
       "       [10, 10, 12, 12, 17],\n",
       "       [10, 11, 11, 14, 16],\n",
       "       [10, 13, 14, 17, 19]])"
      ]
     },
     "execution_count": 5,
     "metadata": {},
     "output_type": "execute_result"
    }
   ],
   "source": [
    "np.sort(x)"
   ]
  },
  {
   "cell_type": "code",
   "execution_count": 7,
   "id": "cd996401-2946-4fb3-a8dd-a148709c8286",
   "metadata": {},
   "outputs": [
    {
     "data": {
      "text/plain": [
       "array([[10, 10, 10, 12, 10],\n",
       "       [14, 13, 11, 16, 11],\n",
       "       [14, 14, 13, 18, 12],\n",
       "       [19, 17, 17, 19, 19]])"
      ]
     },
     "execution_count": 7,
     "metadata": {},
     "output_type": "execute_result"
    }
   ],
   "source": [
    "np.sort(x,axis=0)"
   ]
  },
  {
   "cell_type": "code",
   "execution_count": 11,
   "id": "c5fa09f8-d1f0-45fb-9568-b83662c842bc",
   "metadata": {},
   "outputs": [],
   "source": [
    "#stacking--->merging array dim=>dim+1"
   ]
  },
  {
   "cell_type": "code",
   "execution_count": null,
   "id": "4ec43778-36ae-4471-bccc-91111096bf14",
   "metadata": {},
   "outputs": [],
   "source": []
  }
 ],
 "metadata": {
  "kernelspec": {
   "display_name": "Python 3 (ipykernel)",
   "language": "python",
   "name": "python3"
  },
  "language_info": {
   "codemirror_mode": {
    "name": "ipython",
    "version": 3
   },
   "file_extension": ".py",
   "mimetype": "text/x-python",
   "name": "python",
   "nbconvert_exporter": "python",
   "pygments_lexer": "ipython3",
   "version": "3.12.4"
  }
 },
 "nbformat": 4,
 "nbformat_minor": 5
}
