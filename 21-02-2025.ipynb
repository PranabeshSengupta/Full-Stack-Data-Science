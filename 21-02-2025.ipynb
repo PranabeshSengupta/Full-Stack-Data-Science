{
 "cells": [
  {
   "cell_type": "code",
   "execution_count": 1,
   "id": "71df4748-c302-4138-b920-5c1cce7f987a",
   "metadata": {},
   "outputs": [],
   "source": [
    "import numpy as np"
   ]
  },
  {
   "cell_type": "code",
   "execution_count": 3,
   "id": "e063d2c5-acc1-4487-a697-dbc4d54b5570",
   "metadata": {},
   "outputs": [
    {
     "data": {
      "text/plain": [
       "array([[11, 13, 17, 14, 19, 18, 12, 12],\n",
       "       [13, 19, 14, 17, 13, 15, 19, 19],\n",
       "       [15, 11, 10, 16, 19, 15, 10, 17],\n",
       "       [13, 13, 16, 10, 17, 15, 18, 11],\n",
       "       [11, 15, 15, 13, 12, 15, 15, 16]])"
      ]
     },
     "execution_count": 3,
     "metadata": {},
     "output_type": "execute_result"
    }
   ],
   "source": [
    "x=np.random.randint(10,20,size=(5,8))\n",
    "x"
   ]
  },
  {
   "cell_type": "code",
   "execution_count": 7,
   "id": "456e3444-a419-4a0a-a1bd-064b9062c382",
   "metadata": {},
   "outputs": [
    {
     "data": {
      "text/plain": [
       "array([[19, 15, 10],\n",
       "       [17, 15, 18]])"
      ]
     },
     "execution_count": 7,
     "metadata": {},
     "output_type": "execute_result"
    }
   ],
   "source": [
    "x[  np.ix_([2,3],[4,5,6] )    ]"
   ]
  },
  {
   "cell_type": "code",
   "execution_count": 9,
   "id": "c194c92d-47b0-46f8-8599-7f7b13984e58",
   "metadata": {},
   "outputs": [],
   "source": [
    "#sorting 1D array"
   ]
  },
  {
   "cell_type": "code",
   "execution_count": 11,
   "id": "9556b035-8d15-4553-9af6-56a8395b5e49",
   "metadata": {},
   "outputs": [
    {
     "data": {
      "text/plain": [
       "array([17, 15, 19, 17, 15, 15, 11, 15, 15, 16])"
      ]
     },
     "execution_count": 11,
     "metadata": {},
     "output_type": "execute_result"
    }
   ],
   "source": [
    "x=np.random.randint(10,20,size=(10))\n",
    "x"
   ]
  },
  {
   "cell_type": "code",
   "execution_count": 13,
   "id": "72f73402-0e55-494f-940d-51e09b58abb7",
   "metadata": {},
   "outputs": [
    {
     "data": {
      "text/plain": [
       "array([11, 15, 15, 15, 15, 15, 16, 17, 17, 19])"
      ]
     },
     "execution_count": 13,
     "metadata": {},
     "output_type": "execute_result"
    }
   ],
   "source": [
    "np.sort(x)"
   ]
  },
  {
   "cell_type": "code",
   "execution_count": 15,
   "id": "a52668bd-640d-49b2-aeb4-4655f19cf8dd",
   "metadata": {},
   "outputs": [
    {
     "data": {
      "text/plain": [
       "array([17, 15, 19, 17, 15, 15, 11, 15, 15, 16])"
      ]
     },
     "execution_count": 15,
     "metadata": {},
     "output_type": "execute_result"
    }
   ],
   "source": [
    "x"
   ]
  },
  {
   "cell_type": "code",
   "execution_count": 17,
   "id": "7afb1f6c-c19e-4d70-92d9-47a0861d1c10",
   "metadata": {},
   "outputs": [
    {
     "data": {
      "text/plain": [
       "array([[10, 10, 17, 15, 14],\n",
       "       [14, 16, 10, 18, 12],\n",
       "       [14, 13, 12, 15, 16],\n",
       "       [15, 13, 16, 18, 12]])"
      ]
     },
     "execution_count": 17,
     "metadata": {},
     "output_type": "execute_result"
    }
   ],
   "source": [
    "x=np.random.randint(10,20,size=(4,5))\n",
    "x"
   ]
  },
  {
   "cell_type": "code",
   "execution_count": 19,
   "id": "9791ef82-abf2-4229-8538-1b3abc3fce35",
   "metadata": {},
   "outputs": [
    {
     "data": {
      "text/plain": [
       "array([[10, 10, 14, 15, 17],\n",
       "       [10, 12, 14, 16, 18],\n",
       "       [12, 13, 14, 15, 16],\n",
       "       [12, 13, 15, 16, 18]])"
      ]
     },
     "execution_count": 19,
     "metadata": {},
     "output_type": "execute_result"
    }
   ],
   "source": [
    "np.sort(x)"
   ]
  },
  {
   "cell_type": "code",
   "execution_count": 21,
   "id": "6e084b21-0edd-4742-b671-1219619e776a",
   "metadata": {},
   "outputs": [
    {
     "data": {
      "text/plain": [
       "array([[10, 10, 10, 15, 12],\n",
       "       [14, 13, 12, 15, 12],\n",
       "       [14, 13, 16, 18, 14],\n",
       "       [15, 16, 17, 18, 16]])"
      ]
     },
     "execution_count": 21,
     "metadata": {},
     "output_type": "execute_result"
    }
   ],
   "source": [
    "np.sort(x,axis=0)"
   ]
  },
  {
   "cell_type": "code",
   "execution_count": 23,
   "id": "3dae3e7a-b838-40ec-8307-3be877f6bef3",
   "metadata": {},
   "outputs": [
    {
     "data": {
      "text/plain": [
       "array([10, 10, 10, 12, 12, 12, 13, 13, 14, 14, 14, 15, 15, 15, 16, 16, 16,\n",
       "       17, 18, 18])"
      ]
     },
     "execution_count": 23,
     "metadata": {},
     "output_type": "execute_result"
    }
   ],
   "source": [
    "np.sort(x,axis=None)"
   ]
  },
  {
   "cell_type": "code",
   "execution_count": 25,
   "id": "8dc2d014-aadb-436a-84bf-631afc298840",
   "metadata": {},
   "outputs": [],
   "source": [
    "x=np.random.randint(10,20,size=(10))\n",
    "y=np.random.randint(100,200,size=(10))"
   ]
  },
  {
   "cell_type": "code",
   "execution_count": 27,
   "id": "d1d0ca35-e539-4a26-9fe0-9bb2cd59ce5e",
   "metadata": {},
   "outputs": [
    {
     "data": {
      "text/plain": [
       "(array([14, 18, 18, 16, 15, 10, 10, 12, 15, 10]),\n",
       " array([153, 185, 115, 109, 100, 106, 132, 188, 114, 153]))"
      ]
     },
     "execution_count": 27,
     "metadata": {},
     "output_type": "execute_result"
    }
   ],
   "source": [
    "x,y"
   ]
  },
  {
   "cell_type": "code",
   "execution_count": 29,
   "id": "288d6e8a-f101-48c5-ae9a-1884df393622",
   "metadata": {},
   "outputs": [
    {
     "data": {
      "text/plain": [
       "array([[ 14,  18,  18,  16,  15,  10,  10,  12,  15,  10],\n",
       "       [153, 185, 115, 109, 100, 106, 132, 188, 114, 153]])"
      ]
     },
     "execution_count": 29,
     "metadata": {},
     "output_type": "execute_result"
    }
   ],
   "source": [
    "np.stack((x,y))"
   ]
  },
  {
   "cell_type": "code",
   "execution_count": 31,
   "id": "61474956-1fbf-4bfd-a631-33f9ba0e0739",
   "metadata": {},
   "outputs": [
    {
     "data": {
      "text/plain": [
       "array([[ 14, 153],\n",
       "       [ 18, 185],\n",
       "       [ 18, 115],\n",
       "       [ 16, 109],\n",
       "       [ 15, 100],\n",
       "       [ 10, 106],\n",
       "       [ 10, 132],\n",
       "       [ 12, 188],\n",
       "       [ 15, 114],\n",
       "       [ 10, 153]])"
      ]
     },
     "execution_count": 31,
     "metadata": {},
     "output_type": "execute_result"
    }
   ],
   "source": [
    "np.stack((x,y),axis=1)"
   ]
  },
  {
   "cell_type": "code",
   "execution_count": 33,
   "id": "c60f9511-5fa1-4d53-8651-f9caa190dd51",
   "metadata": {},
   "outputs": [
    {
     "data": {
      "text/plain": [
       "(array([[10, 19, 19, 15, 10],\n",
       "        [16, 17, 12, 15, 12],\n",
       "        [19, 14, 16, 19, 13],\n",
       "        [15, 19, 12, 17, 10]]),\n",
       " array([[172, 101, 139, 101, 155],\n",
       "        [128, 100, 159, 149, 156],\n",
       "        [130, 134, 132, 199, 118],\n",
       "        [176, 148, 139, 131, 135]]))"
      ]
     },
     "execution_count": 33,
     "metadata": {},
     "output_type": "execute_result"
    }
   ],
   "source": [
    "x=np.random.randint(10,20,size=(4,5))\n",
    "y=np.random.randint(100,200,size=(4,5))\n",
    "x,y"
   ]
  },
  {
   "cell_type": "code",
   "execution_count": 35,
   "id": "899c22a6-2d1c-441c-aa99-4b02463b0c5e",
   "metadata": {},
   "outputs": [
    {
     "data": {
      "text/plain": [
       "array([[[ 10,  19,  19,  15,  10],\n",
       "        [ 16,  17,  12,  15,  12],\n",
       "        [ 19,  14,  16,  19,  13],\n",
       "        [ 15,  19,  12,  17,  10]],\n",
       "\n",
       "       [[172, 101, 139, 101, 155],\n",
       "        [128, 100, 159, 149, 156],\n",
       "        [130, 134, 132, 199, 118],\n",
       "        [176, 148, 139, 131, 135]]])"
      ]
     },
     "execution_count": 35,
     "metadata": {},
     "output_type": "execute_result"
    }
   ],
   "source": [
    "np.stack((x,y))"
   ]
  },
  {
   "cell_type": "code",
   "execution_count": 37,
   "id": "92368080-e6ba-4a85-82fd-1f54461c27c5",
   "metadata": {},
   "outputs": [
    {
     "data": {
      "text/plain": [
       "array([[[ 10,  19,  19,  15,  10],\n",
       "        [172, 101, 139, 101, 155]],\n",
       "\n",
       "       [[ 16,  17,  12,  15,  12],\n",
       "        [128, 100, 159, 149, 156]],\n",
       "\n",
       "       [[ 19,  14,  16,  19,  13],\n",
       "        [130, 134, 132, 199, 118]],\n",
       "\n",
       "       [[ 15,  19,  12,  17,  10],\n",
       "        [176, 148, 139, 131, 135]]])"
      ]
     },
     "execution_count": 37,
     "metadata": {},
     "output_type": "execute_result"
    }
   ],
   "source": [
    "np.stack((x,y),axis=1)"
   ]
  },
  {
   "cell_type": "code",
   "execution_count": 39,
   "id": "47e0ea45-9a23-46fc-a52a-d4aed4124a37",
   "metadata": {},
   "outputs": [
    {
     "data": {
      "text/plain": [
       "(array([[12, 13, 18, 10, 18],\n",
       "        [17, 12, 16, 16, 19],\n",
       "        [15, 12, 17, 14, 17],\n",
       "        [13, 14, 13, 14, 15]]),\n",
       " array([[182, 113, 101, 132, 131],\n",
       "        [128, 161, 145, 101, 112],\n",
       "        [114, 124, 180, 155, 154],\n",
       "        [124, 100, 184, 120, 119]]))"
      ]
     },
     "execution_count": 39,
     "metadata": {},
     "output_type": "execute_result"
    }
   ],
   "source": [
    "x=np.random.randint(10,20,size=(4,5))\n",
    "y=np.random.randint(100,200,size=(4,5))\n",
    "x,y"
   ]
  },
  {
   "cell_type": "code",
   "execution_count": 41,
   "id": "ae9ba831-b101-4dd5-8ca3-c32becf083d5",
   "metadata": {},
   "outputs": [
    {
     "data": {
      "text/plain": [
       "array([[ 12,  13,  18,  10,  18, 182, 113, 101, 132, 131],\n",
       "       [ 17,  12,  16,  16,  19, 128, 161, 145, 101, 112],\n",
       "       [ 15,  12,  17,  14,  17, 114, 124, 180, 155, 154],\n",
       "       [ 13,  14,  13,  14,  15, 124, 100, 184, 120, 119]])"
      ]
     },
     "execution_count": 41,
     "metadata": {},
     "output_type": "execute_result"
    }
   ],
   "source": [
    "np.hstack((x,y))"
   ]
  },
  {
   "cell_type": "code",
   "execution_count": 43,
   "id": "4e9bd052-3b8b-4a90-b011-4ae9b9bf00db",
   "metadata": {},
   "outputs": [
    {
     "data": {
      "text/plain": [
       "array([[ 12,  13,  18,  10,  18],\n",
       "       [ 17,  12,  16,  16,  19],\n",
       "       [ 15,  12,  17,  14,  17],\n",
       "       [ 13,  14,  13,  14,  15],\n",
       "       [182, 113, 101, 132, 131],\n",
       "       [128, 161, 145, 101, 112],\n",
       "       [114, 124, 180, 155, 154],\n",
       "       [124, 100, 184, 120, 119]])"
      ]
     },
     "execution_count": 43,
     "metadata": {},
     "output_type": "execute_result"
    }
   ],
   "source": [
    "np.vstack((x,y))"
   ]
  },
  {
   "cell_type": "code",
   "execution_count": 45,
   "id": "6a3150ca-e5a1-40d5-9f78-6787bf4ce900",
   "metadata": {},
   "outputs": [
    {
     "data": {
      "text/plain": [
       "array([[ 12,  13,  18,  10,  18],\n",
       "       [ 17,  12,  16,  16,  19],\n",
       "       [ 15,  12,  17,  14,  17],\n",
       "       [ 13,  14,  13,  14,  15],\n",
       "       [182, 113, 101, 132, 131],\n",
       "       [128, 161, 145, 101, 112],\n",
       "       [114, 124, 180, 155, 154],\n",
       "       [124, 100, 184, 120, 119]])"
      ]
     },
     "execution_count": 45,
     "metadata": {},
     "output_type": "execute_result"
    }
   ],
   "source": [
    "np.concatenate((x,y))"
   ]
  },
  {
   "cell_type": "code",
   "execution_count": 47,
   "id": "4cc6523a-3784-4691-9883-5d2f1f31374f",
   "metadata": {},
   "outputs": [
    {
     "data": {
      "text/plain": [
       "array([[ 12,  13,  18,  10,  18, 182, 113, 101, 132, 131],\n",
       "       [ 17,  12,  16,  16,  19, 128, 161, 145, 101, 112],\n",
       "       [ 15,  12,  17,  14,  17, 114, 124, 180, 155, 154],\n",
       "       [ 13,  14,  13,  14,  15, 124, 100, 184, 120, 119]])"
      ]
     },
     "execution_count": 47,
     "metadata": {},
     "output_type": "execute_result"
    }
   ],
   "source": [
    "np.concatenate((x,y),axis=1)"
   ]
  },
  {
   "cell_type": "code",
   "execution_count": 49,
   "id": "5485ac25-b45a-401c-9bf1-286e631fe009",
   "metadata": {},
   "outputs": [
    {
     "data": {
      "text/plain": [
       "array([[12, 13, 18, 10, 18],\n",
       "       [17, 12, 16, 16, 19],\n",
       "       [15, 12, 17, 14, 17],\n",
       "       [13, 14, 13, 14, 15]])"
      ]
     },
     "execution_count": 49,
     "metadata": {},
     "output_type": "execute_result"
    }
   ],
   "source": [
    "x"
   ]
  },
  {
   "cell_type": "code",
   "execution_count": 51,
   "id": "30532b81-9ad0-40c6-863b-2a94ed4b8ca4",
   "metadata": {},
   "outputs": [
    {
     "data": {
      "text/plain": [
       "array([[12, 10, 12, 17, 15, 10, 10],\n",
       "       [15, 15, 14, 17, 18, 11, 18],\n",
       "       [19, 13, 17, 17, 14, 15, 14],\n",
       "       [12, 12, 17, 14, 10, 12, 14],\n",
       "       [11, 12, 15, 17, 11, 13, 17],\n",
       "       [18, 12, 19, 16, 13, 11, 12]])"
      ]
     },
     "execution_count": 51,
     "metadata": {},
     "output_type": "execute_result"
    }
   ],
   "source": [
    "x=np.random.randint(10,20,size=(6,7))\n",
    "x"
   ]
  },
  {
   "cell_type": "code",
   "execution_count": 53,
   "id": "6380b4c8-8ea2-4d9c-a69b-0ed372488d42",
   "metadata": {},
   "outputs": [
    {
     "data": {
      "text/plain": [
       "[array([[12, 10, 12, 17, 15, 10, 10],\n",
       "        [15, 15, 14, 17, 18, 11, 18],\n",
       "        [19, 13, 17, 17, 14, 15, 14]]),\n",
       " array([[12, 12, 17, 14, 10, 12, 14],\n",
       "        [11, 12, 15, 17, 11, 13, 17],\n",
       "        [18, 12, 19, 16, 13, 11, 12]])]"
      ]
     },
     "execution_count": 53,
     "metadata": {},
     "output_type": "execute_result"
    }
   ],
   "source": [
    "np.split(x,2)"
   ]
  },
  {
   "cell_type": "code",
   "execution_count": 63,
   "id": "1a512c56-eb38-4cca-827d-f82ca01f70dc",
   "metadata": {},
   "outputs": [
    {
     "data": {
      "text/plain": [
       "[array([[12, 10],\n",
       "        [15, 15],\n",
       "        [19, 13],\n",
       "        [12, 12],\n",
       "        [11, 12],\n",
       "        [18, 12]]),\n",
       " array([[12, 17],\n",
       "        [14, 17],\n",
       "        [17, 17],\n",
       "        [17, 14],\n",
       "        [15, 17],\n",
       "        [19, 16]]),\n",
       " array([[15, 10, 10],\n",
       "        [18, 11, 18],\n",
       "        [14, 15, 14],\n",
       "        [10, 12, 14],\n",
       "        [11, 13, 17],\n",
       "        [13, 11, 12]])]"
      ]
     },
     "execution_count": 63,
     "metadata": {},
     "output_type": "execute_result"
    }
   ],
   "source": [
    "np.split(x,[2, 4],axis=1)\n",
    "#  0:2   2:4  4:"
   ]
  },
  {
   "cell_type": "code",
   "execution_count": 65,
   "id": "4a1c4118-b4d1-4b45-ae37-2a84fbed3393",
   "metadata": {},
   "outputs": [
    {
     "data": {
      "text/plain": [
       "array([[12, 10, 12, 17, 15, 10, 10],\n",
       "       [15, 15, 14, 17, 18, 11, 18],\n",
       "       [19, 13, 17, 17, 14, 15, 14],\n",
       "       [12, 12, 17, 14, 10, 12, 14],\n",
       "       [11, 12, 15, 17, 11, 13, 17],\n",
       "       [18, 12, 19, 16, 13, 11, 12]])"
      ]
     },
     "execution_count": 65,
     "metadata": {},
     "output_type": "execute_result"
    }
   ],
   "source": [
    "x"
   ]
  },
  {
   "cell_type": "code",
   "execution_count": 67,
   "id": "276c1efa-ed9e-4eb1-9033-9758e4d74d41",
   "metadata": {},
   "outputs": [
    {
     "data": {
      "text/plain": [
       "[array([[12, 10, 12, 17, 15, 10, 10],\n",
       "        [15, 15, 14, 17, 18, 11, 18]]),\n",
       " array([[19, 13, 17, 17, 14, 15, 14],\n",
       "        [12, 12, 17, 14, 10, 12, 14]]),\n",
       " array([[11, 12, 15, 17, 11, 13, 17],\n",
       "        [18, 12, 19, 16, 13, 11, 12]])]"
      ]
     },
     "execution_count": 67,
     "metadata": {},
     "output_type": "execute_result"
    }
   ],
   "source": [
    "np.split(x,[2,4])"
   ]
  },
  {
   "cell_type": "code",
   "execution_count": 69,
   "id": "84d6d9b9-9713-4a1a-a91a-7e52b1e63e61",
   "metadata": {},
   "outputs": [
    {
     "data": {
      "text/plain": [
       "[array([[12, 10],\n",
       "        [15, 15],\n",
       "        [19, 13],\n",
       "        [12, 12],\n",
       "        [11, 12],\n",
       "        [18, 12]]),\n",
       " array([[12, 17],\n",
       "        [14, 17],\n",
       "        [17, 17],\n",
       "        [17, 14],\n",
       "        [15, 17],\n",
       "        [19, 16]]),\n",
       " array([[15, 10, 10],\n",
       "        [18, 11, 18],\n",
       "        [14, 15, 14],\n",
       "        [10, 12, 14],\n",
       "        [11, 13, 17],\n",
       "        [13, 11, 12]])]"
      ]
     },
     "execution_count": 69,
     "metadata": {},
     "output_type": "execute_result"
    }
   ],
   "source": [
    "np.hsplit(x,[2,4])"
   ]
  },
  {
   "cell_type": "code",
   "execution_count": 71,
   "id": "b35847df-21e6-479e-8997-e77808ba1401",
   "metadata": {},
   "outputs": [
    {
     "data": {
      "text/plain": [
       "[array([[12, 10, 12, 17, 15, 10, 10],\n",
       "        [15, 15, 14, 17, 18, 11, 18]]),\n",
       " array([[19, 13, 17, 17, 14, 15, 14],\n",
       "        [12, 12, 17, 14, 10, 12, 14]]),\n",
       " array([[11, 12, 15, 17, 11, 13, 17],\n",
       "        [18, 12, 19, 16, 13, 11, 12]])]"
      ]
     },
     "execution_count": 71,
     "metadata": {},
     "output_type": "execute_result"
    }
   ],
   "source": [
    "np.vsplit(x,3)"
   ]
  },
  {
   "cell_type": "code",
   "execution_count": 73,
   "id": "4df49b5c-11f2-4f50-afd7-1c62c82b4d27",
   "metadata": {},
   "outputs": [
    {
     "data": {
      "text/plain": [
       "array([[2, 2, 5, 3],\n",
       "       [2, 3, 1, 4],\n",
       "       [5, 1, 1, 5]])"
      ]
     },
     "execution_count": 73,
     "metadata": {},
     "output_type": "execute_result"
    }
   ],
   "source": [
    "x=np.random.randint(1,6,size=(3,4))\n",
    "x\n"
   ]
  },
  {
   "cell_type": "code",
   "execution_count": 75,
   "id": "ac63d82d-896b-4da0-a39b-9c4109f4bea2",
   "metadata": {},
   "outputs": [
    {
     "data": {
      "text/plain": [
       "34"
      ]
     },
     "execution_count": 75,
     "metadata": {},
     "output_type": "execute_result"
    }
   ],
   "source": [
    "x.sum()"
   ]
  },
  {
   "cell_type": "code",
   "execution_count": 77,
   "id": "4bab8999-2dcb-4045-8e76-0eb761ce52db",
   "metadata": {},
   "outputs": [
    {
     "data": {
      "text/plain": [
       "array([ 9,  6,  7, 12])"
      ]
     },
     "execution_count": 77,
     "metadata": {},
     "output_type": "execute_result"
    }
   ],
   "source": [
    "x.sum(axis=0)"
   ]
  },
  {
   "cell_type": "code",
   "execution_count": 79,
   "id": "d9c7306b-d8f8-4197-95db-1017a83fc086",
   "metadata": {},
   "outputs": [
    {
     "data": {
      "text/plain": [
       "array([12, 10, 12])"
      ]
     },
     "execution_count": 79,
     "metadata": {},
     "output_type": "execute_result"
    }
   ],
   "source": [
    "x.sum(axis=1)"
   ]
  },
  {
   "cell_type": "code",
   "execution_count": 81,
   "id": "0dd81996-d63f-4d4f-806c-7bfa0566ce53",
   "metadata": {},
   "outputs": [
    {
     "data": {
      "text/plain": [
       "2.8333333333333335"
      ]
     },
     "execution_count": 81,
     "metadata": {},
     "output_type": "execute_result"
    }
   ],
   "source": [
    "x.mean()"
   ]
  },
  {
   "cell_type": "code",
   "execution_count": 83,
   "id": "1dd39abc-f470-44f4-9291-16bfab3f8bb4",
   "metadata": {},
   "outputs": [
    {
     "data": {
      "text/plain": [
       "array([3.        , 2.        , 2.33333333, 4.        ])"
      ]
     },
     "execution_count": 83,
     "metadata": {},
     "output_type": "execute_result"
    }
   ],
   "source": [
    "x.mean(axis=0)"
   ]
  },
  {
   "cell_type": "code",
   "execution_count": 85,
   "id": "93218228-30eb-47e3-9300-10acacf11238",
   "metadata": {},
   "outputs": [
    {
     "data": {
      "text/plain": [
       "array([3. , 2.5, 3. ])"
      ]
     },
     "execution_count": 85,
     "metadata": {},
     "output_type": "execute_result"
    }
   ],
   "source": [
    "x.mean(axis=1)"
   ]
  },
  {
   "cell_type": "code",
   "execution_count": 87,
   "id": "4b2e1bc3-bee4-42af-815e-8ef5d9a7b4e0",
   "metadata": {},
   "outputs": [],
   "source": [
    "from statistics import mode"
   ]
  },
  {
   "cell_type": "code",
   "execution_count": 89,
   "id": "08d7bd75-21c8-4ce9-a955-5053e0849952",
   "metadata": {},
   "outputs": [
    {
     "data": {
      "text/plain": [
       "array([10, 20, 30, 40])"
      ]
     },
     "execution_count": 89,
     "metadata": {},
     "output_type": "execute_result"
    }
   ],
   "source": [
    "y=np.array([10,20,30,40])\n",
    "y"
   ]
  },
  {
   "cell_type": "code",
   "execution_count": 91,
   "id": "c26f006c-b35d-4276-a492-eecc319e1e99",
   "metadata": {},
   "outputs": [
    {
     "data": {
      "text/plain": [
       "10"
      ]
     },
     "execution_count": 91,
     "metadata": {},
     "output_type": "execute_result"
    }
   ],
   "source": [
    "mode(y)"
   ]
  },
  {
   "cell_type": "code",
   "execution_count": 93,
   "id": "3c171e26-690e-43ce-959c-c2446c096b44",
   "metadata": {},
   "outputs": [
    {
     "data": {
      "text/plain": [
       "array([10, 20, 30, 40, 20])"
      ]
     },
     "execution_count": 93,
     "metadata": {},
     "output_type": "execute_result"
    }
   ],
   "source": [
    "y=np.array([10,20,30,40,20])\n",
    "y"
   ]
  },
  {
   "cell_type": "code",
   "execution_count": 95,
   "id": "14a08a74-84cc-4456-b588-db4ebfe36c6b",
   "metadata": {},
   "outputs": [
    {
     "data": {
      "text/plain": [
       "20"
      ]
     },
     "execution_count": 95,
     "metadata": {},
     "output_type": "execute_result"
    }
   ],
   "source": [
    "mode(y)"
   ]
  },
  {
   "cell_type": "code",
   "execution_count": 97,
   "id": "0cc4015b-7d3f-446f-8a7c-34dd24ef5f5d",
   "metadata": {},
   "outputs": [
    {
     "data": {
      "text/plain": [
       "array([10, 20, 30, 40, 20, 10])"
      ]
     },
     "execution_count": 97,
     "metadata": {},
     "output_type": "execute_result"
    }
   ],
   "source": [
    "y=np.array([10,20,30,40,20,10])\n",
    "y"
   ]
  },
  {
   "cell_type": "code",
   "execution_count": 99,
   "id": "b632e026-c403-4508-a4e9-49265ca575ec",
   "metadata": {},
   "outputs": [
    {
     "data": {
      "text/plain": [
       "10"
      ]
     },
     "execution_count": 99,
     "metadata": {},
     "output_type": "execute_result"
    }
   ],
   "source": [
    "mode(y)"
   ]
  },
  {
   "cell_type": "code",
   "execution_count": 101,
   "id": "916e8e15-2ea4-4035-9270-64081037afb9",
   "metadata": {},
   "outputs": [
    {
     "data": {
      "text/plain": [
       "array([10, 20, 30, 40, 50, 60])"
      ]
     },
     "execution_count": 101,
     "metadata": {},
     "output_type": "execute_result"
    }
   ],
   "source": [
    "y=np.array([10,20,30,40,50,60])\n",
    "y"
   ]
  },
  {
   "cell_type": "code",
   "execution_count": 103,
   "id": "cd39129a-034f-4235-a5cf-8d7342ce7189",
   "metadata": {},
   "outputs": [
    {
     "data": {
      "text/plain": [
       "35.0"
      ]
     },
     "execution_count": 103,
     "metadata": {},
     "output_type": "execute_result"
    }
   ],
   "source": [
    "np.median(y)"
   ]
  },
  {
   "cell_type": "code",
   "execution_count": 105,
   "id": "07b452c6-29a1-4440-8736-dc25d9fe2298",
   "metadata": {},
   "outputs": [
    {
     "data": {
      "text/plain": [
       "array([10, 20, 30, 40, 50, 60, 70])"
      ]
     },
     "execution_count": 105,
     "metadata": {},
     "output_type": "execute_result"
    }
   ],
   "source": [
    "y=np.array([10,20,30,40,50,60,70])\n",
    "y"
   ]
  },
  {
   "cell_type": "code",
   "execution_count": 107,
   "id": "60f4fcbb-613a-4b6b-a847-5ca6531bbdce",
   "metadata": {},
   "outputs": [
    {
     "data": {
      "text/plain": [
       "40.0"
      ]
     },
     "execution_count": 107,
     "metadata": {},
     "output_type": "execute_result"
    }
   ],
   "source": [
    "np.median(y)"
   ]
  },
  {
   "cell_type": "code",
   "execution_count": 109,
   "id": "f903957e-cb5f-4caf-80db-9632ae4097a1",
   "metadata": {},
   "outputs": [
    {
     "data": {
      "text/plain": [
       "array([  10,   20,   30,   40,   50,   60, 5000])"
      ]
     },
     "execution_count": 109,
     "metadata": {},
     "output_type": "execute_result"
    }
   ],
   "source": [
    "y=np.array([10,20,30,40,50,60,5000])\n",
    "y"
   ]
  },
  {
   "cell_type": "code",
   "execution_count": 111,
   "id": "475e2ae2-72e7-48fc-8579-e0d17616dc23",
   "metadata": {},
   "outputs": [
    {
     "data": {
      "text/plain": [
       "744.2857142857143"
      ]
     },
     "execution_count": 111,
     "metadata": {},
     "output_type": "execute_result"
    }
   ],
   "source": [
    "np.mean(y)"
   ]
  },
  {
   "cell_type": "code",
   "execution_count": 113,
   "id": "2a70d449-e3ee-43d2-a783-6c1e11daf780",
   "metadata": {},
   "outputs": [
    {
     "data": {
      "text/plain": [
       "40.0"
      ]
     },
     "execution_count": 113,
     "metadata": {},
     "output_type": "execute_result"
    }
   ],
   "source": [
    "np.median(y)"
   ]
  },
  {
   "cell_type": "code",
   "execution_count": 115,
   "id": "ed36dd80-2895-4655-84d1-d505a23956a9",
   "metadata": {},
   "outputs": [
    {
     "data": {
      "text/plain": [
       "array([10, 20, 30, 40, 50, 60])"
      ]
     },
     "execution_count": 115,
     "metadata": {},
     "output_type": "execute_result"
    }
   ],
   "source": [
    "y=np.array([10,20,30,40,50,60])\n",
    "y"
   ]
  },
  {
   "cell_type": "code",
   "execution_count": 117,
   "id": "760b1f82-d71b-4769-902e-dfe1d89521a6",
   "metadata": {},
   "outputs": [
    {
     "data": {
      "text/plain": [
       "1.2000000000000002"
      ]
     },
     "execution_count": 117,
     "metadata": {},
     "output_type": "execute_result"
    }
   ],
   "source": [
    ".20*6"
   ]
  },
  {
   "cell_type": "code",
   "execution_count": 119,
   "id": "f14d4b4b-3be2-4ad1-8d26-79615dbd43cf",
   "metadata": {},
   "outputs": [],
   "source": [
    "#i+g=   q*(n-1)+1"
   ]
  },
  {
   "cell_type": "code",
   "execution_count": 121,
   "id": "9be7f5f4-b5e4-4669-8aed-90475ccbb1a2",
   "metadata": {},
   "outputs": [],
   "source": [
    "#20th percentile"
   ]
  },
  {
   "cell_type": "code",
   "execution_count": 123,
   "id": "f169a3b4-1ae0-40f6-a57d-1f10474dcb94",
   "metadata": {},
   "outputs": [
    {
     "data": {
      "text/plain": [
       "2.0"
      ]
     },
     "execution_count": 123,
     "metadata": {},
     "output_type": "execute_result"
    }
   ],
   "source": [
    "n=6\n",
    "20/100*(n-1)+1\n"
   ]
  },
  {
   "cell_type": "code",
   "execution_count": 125,
   "id": "08d86e98-fde4-4a3b-853e-ecc5bde33610",
   "metadata": {},
   "outputs": [
    {
     "data": {
      "text/plain": [
       "20.0"
      ]
     },
     "execution_count": 125,
     "metadata": {},
     "output_type": "execute_result"
    }
   ],
   "source": [
    "np.percentile(y,20)"
   ]
  },
  {
   "cell_type": "code",
   "execution_count": 127,
   "id": "3d7b7124-a05a-4a4b-bccc-2a195eaf872c",
   "metadata": {},
   "outputs": [],
   "source": [
    "#30th percentile"
   ]
  },
  {
   "cell_type": "code",
   "execution_count": 129,
   "id": "5fcf0047-fed2-49eb-8ae0-2290b010c691",
   "metadata": {},
   "outputs": [
    {
     "data": {
      "text/plain": [
       "2.5"
      ]
     },
     "execution_count": 129,
     "metadata": {},
     "output_type": "execute_result"
    }
   ],
   "source": [
    "h=30/100*(n-1)+1\n",
    "h"
   ]
  },
  {
   "cell_type": "code",
   "execution_count": 131,
   "id": "5bb578e6-ebaa-439a-807d-d7b0bd7b4df8",
   "metadata": {},
   "outputs": [],
   "source": [
    "i=2\n",
    "g=.5"
   ]
  },
  {
   "cell_type": "code",
   "execution_count": 133,
   "id": "815aa6e3-4f25-4385-9e2c-ca4fd4bf91fa",
   "metadata": {},
   "outputs": [
    {
     "data": {
      "text/plain": [
       "25.0"
      ]
     },
     "execution_count": 133,
     "metadata": {},
     "output_type": "execute_result"
    }
   ],
   "source": [
    "perc=20+g*(30-20)\n",
    "perc"
   ]
  },
  {
   "cell_type": "code",
   "execution_count": 135,
   "id": "88ef238e-fad7-4b87-9100-398f3e8397b5",
   "metadata": {},
   "outputs": [
    {
     "data": {
      "text/plain": [
       "25.0"
      ]
     },
     "execution_count": 135,
     "metadata": {},
     "output_type": "execute_result"
    }
   ],
   "source": [
    "np.percentile(y,30)"
   ]
  },
  {
   "cell_type": "code",
   "execution_count": 137,
   "id": "ee25fe47-11c9-40a6-b898-80da37288dc3",
   "metadata": {},
   "outputs": [
    {
     "data": {
      "text/plain": [
       "array([[2, 2, 5, 3],\n",
       "       [2, 3, 1, 4],\n",
       "       [5, 1, 1, 5]])"
      ]
     },
     "execution_count": 137,
     "metadata": {},
     "output_type": "execute_result"
    }
   ],
   "source": [
    "x"
   ]
  },
  {
   "cell_type": "code",
   "execution_count": 139,
   "id": "2cb9ba8d-514a-475b-a78b-262ca03d8b97",
   "metadata": {},
   "outputs": [
    {
     "data": {
      "text/plain": [
       "5"
      ]
     },
     "execution_count": 139,
     "metadata": {},
     "output_type": "execute_result"
    }
   ],
   "source": [
    "x.max()"
   ]
  },
  {
   "cell_type": "code",
   "execution_count": 141,
   "id": "fe6ae85a-f2f0-486b-b847-c1caeda852ca",
   "metadata": {},
   "outputs": [
    {
     "data": {
      "text/plain": [
       "1"
      ]
     },
     "execution_count": 141,
     "metadata": {},
     "output_type": "execute_result"
    }
   ],
   "source": [
    "x.min()"
   ]
  },
  {
   "cell_type": "code",
   "execution_count": 143,
   "id": "facb423c-ee1d-4642-b172-fa0b706c52f9",
   "metadata": {},
   "outputs": [
    {
     "data": {
      "text/plain": [
       "array([5, 3, 5, 5])"
      ]
     },
     "execution_count": 143,
     "metadata": {},
     "output_type": "execute_result"
    }
   ],
   "source": [
    "x.max(axis=0)"
   ]
  },
  {
   "cell_type": "code",
   "execution_count": 145,
   "id": "f4cf0409-e06b-4199-8829-70ded69fb351",
   "metadata": {},
   "outputs": [
    {
     "data": {
      "text/plain": [
       "array([5, 4, 5])"
      ]
     },
     "execution_count": 145,
     "metadata": {},
     "output_type": "execute_result"
    }
   ],
   "source": [
    "x.max(axis=1)"
   ]
  },
  {
   "cell_type": "code",
   "execution_count": 147,
   "id": "4fd1451a-6f1f-4ae2-93dd-126764ab4dd9",
   "metadata": {},
   "outputs": [
    {
     "data": {
      "text/plain": [
       "1"
      ]
     },
     "execution_count": 147,
     "metadata": {},
     "output_type": "execute_result"
    }
   ],
   "source": [
    "x.min()"
   ]
  },
  {
   "cell_type": "code",
   "execution_count": 149,
   "id": "59fc7b52-475b-44f3-8f80-bb8055276f8c",
   "metadata": {},
   "outputs": [
    {
     "data": {
      "text/plain": [
       "array([2, 1, 1, 3])"
      ]
     },
     "execution_count": 149,
     "metadata": {},
     "output_type": "execute_result"
    }
   ],
   "source": [
    "x.min(axis=0)"
   ]
  },
  {
   "cell_type": "code",
   "execution_count": 151,
   "id": "756d567f-eab4-4ce4-b096-30cea2bec62c",
   "metadata": {},
   "outputs": [
    {
     "data": {
      "text/plain": [
       "array([[2, 2, 5, 3],\n",
       "       [2, 3, 1, 4],\n",
       "       [5, 1, 1, 5]])"
      ]
     },
     "execution_count": 151,
     "metadata": {},
     "output_type": "execute_result"
    }
   ],
   "source": [
    "x"
   ]
  },
  {
   "cell_type": "code",
   "execution_count": 153,
   "id": "54db2422-8a05-4205-ab2b-7b6b34f83683",
   "metadata": {},
   "outputs": [
    {
     "data": {
      "text/plain": [
       "array([2, 1, 1])"
      ]
     },
     "execution_count": 153,
     "metadata": {},
     "output_type": "execute_result"
    }
   ],
   "source": [
    "x.min(axis=1)"
   ]
  },
  {
   "cell_type": "code",
   "execution_count": null,
   "id": "78338166-d02d-4e54-9a65-5930e3863c11",
   "metadata": {},
   "outputs": [],
   "source": []
  }
 ],
 "metadata": {
  "kernelspec": {
   "display_name": "Python 3 (ipykernel)",
   "language": "python",
   "name": "python3"
  },
  "language_info": {
   "codemirror_mode": {
    "name": "ipython",
    "version": 3
   },
   "file_extension": ".py",
   "mimetype": "text/x-python",
   "name": "python",
   "nbconvert_exporter": "python",
   "pygments_lexer": "ipython3",
   "version": "3.12.4"
  }
 },
 "nbformat": 4,
 "nbformat_minor": 5
}
