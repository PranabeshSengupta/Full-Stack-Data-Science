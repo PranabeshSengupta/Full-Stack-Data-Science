{
 "cells": [
  {
   "cell_type": "code",
   "execution_count": 1,
   "id": "d6ff0e4c-cfcb-4b84-8b6e-6f9196f7f850",
   "metadata": {},
   "outputs": [],
   "source": [
    "import numpy as np"
   ]
  },
  {
   "cell_type": "code",
   "execution_count": 3,
   "id": "92bb0b2d-dcb8-4b3c-8a63-db9388d71632",
   "metadata": {},
   "outputs": [],
   "source": [
    "y=[12,24,30,45]"
   ]
  },
  {
   "cell_type": "code",
   "execution_count": 5,
   "id": "108910fa-65ee-44e5-b828-6eba549a7b27",
   "metadata": {},
   "outputs": [],
   "source": [
    "y[1:3]={'tv':5000,'monitor':6000}"
   ]
  },
  {
   "cell_type": "code",
   "execution_count": 7,
   "id": "4066e959-a221-4b32-b7bb-3fe48a84a49d",
   "metadata": {},
   "outputs": [
    {
     "data": {
      "text/plain": [
       "[12, 'tv', 'monitor', 45]"
      ]
     },
     "execution_count": 7,
     "metadata": {},
     "output_type": "execute_result"
    }
   ],
   "source": [
    "y"
   ]
  },
  {
   "cell_type": "code",
   "execution_count": 9,
   "id": "1ee75e4c-4a44-4cfc-b6cf-25196f5caddd",
   "metadata": {},
   "outputs": [],
   "source": [
    "#numpy broadcasting"
   ]
  },
  {
   "cell_type": "code",
   "execution_count": 11,
   "id": "99fe8fb9-ae4e-4f66-886e-05ccf7940c15",
   "metadata": {},
   "outputs": [],
   "source": [
    "#2d array"
   ]
  },
  {
   "cell_type": "code",
   "execution_count": 13,
   "id": "2f4cbb05-a8ea-4cc0-a5ab-3aa38f0e321c",
   "metadata": {},
   "outputs": [],
   "source": [
    "x=np.random.randint(10,20,size=(6,5))"
   ]
  },
  {
   "cell_type": "code",
   "execution_count": 15,
   "id": "4df5375b-126f-4db1-a612-847e4a79516f",
   "metadata": {},
   "outputs": [
    {
     "data": {
      "text/plain": [
       "array([[16, 11, 19, 17, 15],\n",
       "       [12, 15, 14, 16, 19],\n",
       "       [11, 16, 15, 18, 15],\n",
       "       [15, 10, 15, 16, 19],\n",
       "       [18, 16, 15, 11, 19],\n",
       "       [11, 16, 16, 16, 17]])"
      ]
     },
     "execution_count": 15,
     "metadata": {},
     "output_type": "execute_result"
    }
   ],
   "source": [
    "x"
   ]
  },
  {
   "cell_type": "code",
   "execution_count": 17,
   "id": "ad671805-1ae5-474b-991c-167adda14303",
   "metadata": {},
   "outputs": [
    {
     "data": {
      "text/plain": [
       "array([11, 16, 15, 18, 15])"
      ]
     },
     "execution_count": 17,
     "metadata": {},
     "output_type": "execute_result"
    }
   ],
   "source": [
    "x[2]"
   ]
  },
  {
   "cell_type": "code",
   "execution_count": 19,
   "id": "864905df-466d-4511-93c1-a591f29af64d",
   "metadata": {},
   "outputs": [
    {
     "data": {
      "text/plain": [
       "18"
      ]
     },
     "execution_count": 19,
     "metadata": {},
     "output_type": "execute_result"
    }
   ],
   "source": [
    "x[2,3]"
   ]
  },
  {
   "cell_type": "code",
   "execution_count": 21,
   "id": "57875c4e-a5be-4836-a1c6-70b8a440eb84",
   "metadata": {},
   "outputs": [
    {
     "data": {
      "text/plain": [
       "array([[16, 11, 19, 17, 15],\n",
       "       [12, 15, 14, 16, 19],\n",
       "       [11, 16, 15, 18, 15]])"
      ]
     },
     "execution_count": 21,
     "metadata": {},
     "output_type": "execute_result"
    }
   ],
   "source": [
    "x[:3]"
   ]
  },
  {
   "cell_type": "code",
   "execution_count": 23,
   "id": "ab07834e-3d6a-4288-a7bb-a1c1f8aa641a",
   "metadata": {},
   "outputs": [
    {
     "data": {
      "text/plain": [
       "array([[11, 16, 15],\n",
       "       [15, 10, 15]])"
      ]
     },
     "execution_count": 23,
     "metadata": {},
     "output_type": "execute_result"
    }
   ],
   "source": [
    "x[2:4,:3]"
   ]
  },
  {
   "cell_type": "code",
   "execution_count": 25,
   "id": "d0ead702-4b9b-46bd-a8bd-27efd41d8851",
   "metadata": {},
   "outputs": [
    {
     "data": {
      "text/plain": [
       "array([[16, 11, 19],\n",
       "       [12, 15, 14],\n",
       "       [11, 16, 15],\n",
       "       [15, 10, 15],\n",
       "       [18, 16, 15],\n",
       "       [11, 16, 16]])"
      ]
     },
     "execution_count": 25,
     "metadata": {},
     "output_type": "execute_result"
    }
   ],
   "source": [
    "x[:,:3]"
   ]
  },
  {
   "cell_type": "code",
   "execution_count": 27,
   "id": "28db1622-d858-4c63-9420-53ceb94e4b8c",
   "metadata": {},
   "outputs": [
    {
     "data": {
      "text/plain": [
       "array([[11, 16, 15, 18, 15],\n",
       "       [15, 10, 15, 16, 19]])"
      ]
     },
     "execution_count": 27,
     "metadata": {},
     "output_type": "execute_result"
    }
   ],
   "source": [
    "x[2:4,:]"
   ]
  },
  {
   "cell_type": "code",
   "execution_count": 29,
   "id": "2a22d688-399d-4504-8e74-4e9741b8ce88",
   "metadata": {},
   "outputs": [
    {
     "data": {
      "text/plain": [
       "array([[16, 11, 19, 17, 15],\n",
       "       [12, 15, 14, 16, 19],\n",
       "       [11, 16, 15, 18, 15],\n",
       "       [15, 10, 15, 16, 19],\n",
       "       [18, 16, 15, 11, 19],\n",
       "       [11, 16, 16, 16, 17]])"
      ]
     },
     "execution_count": 29,
     "metadata": {},
     "output_type": "execute_result"
    }
   ],
   "source": [
    "x"
   ]
  },
  {
   "cell_type": "code",
   "execution_count": 31,
   "id": "07235e47-5fd9-4658-a6d9-d35177660804",
   "metadata": {},
   "outputs": [],
   "source": [
    "x[0]=10000"
   ]
  },
  {
   "cell_type": "code",
   "execution_count": 33,
   "id": "2f514d67-734d-4b99-90e5-bb80a3a1ab21",
   "metadata": {},
   "outputs": [
    {
     "data": {
      "text/plain": [
       "array([[10000, 10000, 10000, 10000, 10000],\n",
       "       [   12,    15,    14,    16,    19],\n",
       "       [   11,    16,    15,    18,    15],\n",
       "       [   15,    10,    15,    16,    19],\n",
       "       [   18,    16,    15,    11,    19],\n",
       "       [   11,    16,    16,    16,    17]])"
      ]
     },
     "execution_count": 33,
     "metadata": {},
     "output_type": "execute_result"
    }
   ],
   "source": [
    "x"
   ]
  },
  {
   "cell_type": "code",
   "execution_count": null,
   "id": "ce82e269-c3d8-4262-8d69-2fab3238c4a2",
   "metadata": {},
   "outputs": [],
   "source": []
  }
 ],
 "metadata": {
  "kernelspec": {
   "display_name": "Python 3 (ipykernel)",
   "language": "python",
   "name": "python3"
  },
  "language_info": {
   "codemirror_mode": {
    "name": "ipython",
    "version": 3
   },
   "file_extension": ".py",
   "mimetype": "text/x-python",
   "name": "python",
   "nbconvert_exporter": "python",
   "pygments_lexer": "ipython3",
   "version": "3.12.4"
  }
 },
 "nbformat": 4,
 "nbformat_minor": 5
}
