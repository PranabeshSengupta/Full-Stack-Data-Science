{
 "cells": [
  {
   "cell_type": "code",
   "execution_count": 1,
   "id": "52ceef01-2285-412d-ad4e-ef7dd32848c5",
   "metadata": {},
   "outputs": [],
   "source": [
    "#Boolean Indexing"
   ]
  },
  {
   "cell_type": "code",
   "execution_count": 3,
   "id": "fb7b3e39-6437-4be7-b070-183536a0a92a",
   "metadata": {},
   "outputs": [],
   "source": [
    "import numpy as np"
   ]
  },
  {
   "cell_type": "code",
   "execution_count": 7,
   "id": "471baa8c-123d-4026-841f-4943621fe077",
   "metadata": {},
   "outputs": [
    {
     "data": {
      "text/plain": [
       "array([12, 17, 14, 19, 19, 12, 13, 10, 10, 15])"
      ]
     },
     "execution_count": 7,
     "metadata": {},
     "output_type": "execute_result"
    }
   ],
   "source": [
    "x=np.random.randint(10,20,size=10)\n",
    "x"
   ]
  },
  {
   "cell_type": "code",
   "execution_count": 9,
   "id": "d34bd57d-4c6f-43f4-bf38-f752b79b77c7",
   "metadata": {},
   "outputs": [],
   "source": [
    "#boolean mask=>\"array of boolean value\""
   ]
  },
  {
   "cell_type": "code",
   "execution_count": 11,
   "id": "73bcadf4-3e4f-4db1-9bd4-75d69e5e70f4",
   "metadata": {},
   "outputs": [],
   "source": [
    "a=[True,False,True,False,True,False,False,True,True,True]"
   ]
  },
  {
   "cell_type": "code",
   "execution_count": 13,
   "id": "02a26b66-a6f2-43a0-9d91-d399a62e383c",
   "metadata": {},
   "outputs": [
    {
     "data": {
      "text/plain": [
       "array([12, 14, 19, 10, 10, 15])"
      ]
     },
     "execution_count": 13,
     "metadata": {},
     "output_type": "execute_result"
    }
   ],
   "source": [
    "x[a]"
   ]
  },
  {
   "cell_type": "code",
   "execution_count": 15,
   "id": "1ae8b1ce-b670-4d1d-8a4b-ecccd2dd8699",
   "metadata": {},
   "outputs": [
    {
     "data": {
      "text/plain": [
       "array([1, 0, 1, 0, 0, 1, 0, 1, 1, 0])"
      ]
     },
     "execution_count": 15,
     "metadata": {},
     "output_type": "execute_result"
    }
   ],
   "source": [
    "b=np.random.randint(0,2,size=10)\n",
    "b"
   ]
  },
  {
   "cell_type": "code",
   "execution_count": 17,
   "id": "f2db0325-9ba7-4ca9-8762-0999611f0187",
   "metadata": {},
   "outputs": [],
   "source": [
    "#astype()=>\"it is used to change the data type\"[instance method]\n",
    "#1.astype(int/flot/bool)"
   ]
  },
  {
   "cell_type": "code",
   "execution_count": 21,
   "id": "d0f1e7c9-bccf-4fc8-877f-f00e42138d14",
   "metadata": {},
   "outputs": [
    {
     "data": {
      "text/plain": [
       "array([ True, False,  True, False, False,  True, False,  True,  True,\n",
       "       False])"
      ]
     },
     "execution_count": 21,
     "metadata": {},
     "output_type": "execute_result"
    }
   ],
   "source": [
    "mask=b.astype(bool)\n",
    "mask"
   ]
  },
  {
   "cell_type": "code",
   "execution_count": 23,
   "id": "c71882c6-7647-420d-9eaf-669b1d025b87",
   "metadata": {},
   "outputs": [
    {
     "data": {
      "text/plain": [
       "array([12, 14, 12, 10, 10])"
      ]
     },
     "execution_count": 23,
     "metadata": {},
     "output_type": "execute_result"
    }
   ],
   "source": [
    "x[mask]"
   ]
  },
  {
   "cell_type": "code",
   "execution_count": 25,
   "id": "c78e4fcd-3c14-4b9c-bb2a-3e8d943b2bc1",
   "metadata": {},
   "outputs": [
    {
     "data": {
      "text/plain": [
       "array([17, 19, 19, 15])"
      ]
     },
     "execution_count": 25,
     "metadata": {},
     "output_type": "execute_result"
    }
   ],
   "source": [
    "x[x>14]"
   ]
  },
  {
   "cell_type": "code",
   "execution_count": 31,
   "id": "4573e816-7158-4091-a146-d496eed770b4",
   "metadata": {},
   "outputs": [],
   "source": [
    "#multiple condition"
   ]
  },
  {
   "cell_type": "code",
   "execution_count": 33,
   "id": "a4626580-0732-442b-86b3-dd240a110cc5",
   "metadata": {},
   "outputs": [],
   "source": [
    "#and &(bitwise operator)\n",
    "#or |\n",
    "#not ~"
   ]
  },
  {
   "cell_type": "code",
   "execution_count": 35,
   "id": "6e7cf2b5-9847-4eed-aefe-1a686874bc9e",
   "metadata": {},
   "outputs": [
    {
     "data": {
      "text/plain": [
       "array([12, 17, 14, 19, 19, 12, 13, 10, 10, 15])"
      ]
     },
     "execution_count": 35,
     "metadata": {},
     "output_type": "execute_result"
    }
   ],
   "source": [
    "x"
   ]
  },
  {
   "cell_type": "code",
   "execution_count": 43,
   "id": "2b8472d8-4cff-4cf8-b808-afbdc63d5a09",
   "metadata": {},
   "outputs": [
    {
     "data": {
      "text/plain": [
       "array([ True,  True,  True,  True,  True,  True,  True,  True,  True,\n",
       "        True])"
      ]
     },
     "execution_count": 43,
     "metadata": {},
     "output_type": "execute_result"
    }
   ],
   "source": [
    "c=(x>14) | (x<19)\n",
    "c"
   ]
  },
  {
   "cell_type": "code",
   "execution_count": 45,
   "id": "34f29f6b-d4d2-4989-afc6-e994743a0f4c",
   "metadata": {},
   "outputs": [],
   "source": [
    "#boolean Indexing for 2d array"
   ]
  },
  {
   "cell_type": "code",
   "execution_count": 47,
   "id": "2f704ef7-61b3-46e1-8d53-13992fd01367",
   "metadata": {},
   "outputs": [
    {
     "data": {
      "text/plain": [
       "array([[16, 10, 18, 13, 17],\n",
       "       [13, 19, 14, 13, 11],\n",
       "       [10, 12, 12, 19, 13],\n",
       "       [19, 10, 13, 18, 19],\n",
       "       [14, 17, 15, 17, 18],\n",
       "       [12, 13, 16, 17, 14]])"
      ]
     },
     "execution_count": 47,
     "metadata": {},
     "output_type": "execute_result"
    }
   ],
   "source": [
    "y=np.random.randint(10,20,size=(6,5))\n",
    "y"
   ]
  },
  {
   "cell_type": "code",
   "execution_count": 49,
   "id": "651f0364-384e-4e37-9ba2-f370323a5fdc",
   "metadata": {},
   "outputs": [
    {
     "data": {
      "text/plain": [
       "array([[ True, False,  True, False,  True],\n",
       "       [False,  True, False, False, False],\n",
       "       [False, False, False,  True, False],\n",
       "       [ True, False, False,  True,  True],\n",
       "       [False,  True, False,  True,  True],\n",
       "       [False, False,  True,  True, False]])"
      ]
     },
     "execution_count": 49,
     "metadata": {},
     "output_type": "execute_result"
    }
   ],
   "source": [
    "y>15"
   ]
  },
  {
   "cell_type": "code",
   "execution_count": 55,
   "id": "7f86d925-18d9-4009-8ed1-8424302d1615",
   "metadata": {},
   "outputs": [
    {
     "data": {
      "text/plain": [
       "array([16, 18, 17, 19, 19, 19, 18, 19, 17, 17, 18, 16, 17])"
      ]
     },
     "execution_count": 55,
     "metadata": {},
     "output_type": "execute_result"
    }
   ],
   "source": [
    "y[y>15]"
   ]
  },
  {
   "cell_type": "code",
   "execution_count": 57,
   "id": "12432fa2-e943-463d-a9fa-f9115f7f31f4",
   "metadata": {},
   "outputs": [
    {
     "data": {
      "text/plain": [
       "array([False, False, False,  True, False])"
      ]
     },
     "execution_count": 57,
     "metadata": {},
     "output_type": "execute_result"
    }
   ],
   "source": [
    "y[2]>15"
   ]
  },
  {
   "cell_type": "code",
   "execution_count": 59,
   "id": "db9d18a4-14b3-47a5-8889-a32eb64948a1",
   "metadata": {},
   "outputs": [],
   "source": [
    "#fancy indexing\n",
    "#x[ [row] , [col] ]"
   ]
  },
  {
   "cell_type": "code",
   "execution_count": 61,
   "id": "3bd8da1a-09b1-4be9-abb3-bb514c8973bf",
   "metadata": {},
   "outputs": [
    {
     "data": {
      "text/plain": [
       "array([[16, 10, 18, 13, 17],\n",
       "       [13, 19, 14, 13, 11],\n",
       "       [10, 12, 12, 19, 13],\n",
       "       [19, 10, 13, 18, 19],\n",
       "       [14, 17, 15, 17, 18],\n",
       "       [12, 13, 16, 17, 14]])"
      ]
     },
     "execution_count": 61,
     "metadata": {},
     "output_type": "execute_result"
    }
   ],
   "source": [
    "y"
   ]
  },
  {
   "cell_type": "code",
   "execution_count": 63,
   "id": "58920078-4cf8-493f-b702-af32c9c02a37",
   "metadata": {},
   "outputs": [
    {
     "data": {
      "text/plain": [
       "(6, 5)"
      ]
     },
     "execution_count": 63,
     "metadata": {},
     "output_type": "execute_result"
    }
   ],
   "source": [
    "y.shape"
   ]
  },
  {
   "cell_type": "code",
   "execution_count": 65,
   "id": "61ec3721-fc53-4db6-a2a2-f43d9849c243",
   "metadata": {},
   "outputs": [
    {
     "data": {
      "text/plain": [
       "array([False,  True, False, False, False,  True])"
      ]
     },
     "execution_count": 65,
     "metadata": {},
     "output_type": "execute_result"
    }
   ],
   "source": [
    "r=np.random.randint(0,2,size=6).astype(bool)\n",
    "r"
   ]
  },
  {
   "cell_type": "code",
   "execution_count": 89,
   "id": "b6e67ff9-23d7-4b4c-b560-fc3097dfa0d3",
   "metadata": {},
   "outputs": [
    {
     "data": {
      "text/plain": [
       "array([ True,  True, False,  True,  True])"
      ]
     },
     "execution_count": 89,
     "metadata": {},
     "output_type": "execute_result"
    }
   ],
   "source": [
    "c=np.random.randint(0,2,size=5).astype(bool) # col!=row so can't use y[r,c]\n",
    "c"
   ]
  },
  {
   "cell_type": "code",
   "execution_count": 79,
   "id": "2e1fca22-8400-400e-b256-f481e73ef1b7",
   "metadata": {},
   "outputs": [
    {
     "data": {
      "text/plain": [
       "array([[13, 19, 14, 13, 11],\n",
       "       [12, 13, 16, 17, 14]])"
      ]
     },
     "execution_count": 79,
     "metadata": {},
     "output_type": "execute_result"
    }
   ],
   "source": [
    "z=y[r]\n",
    "z"
   ]
  },
  {
   "cell_type": "code",
   "execution_count": 85,
   "id": "dd5bf68a-944f-41b2-b148-0d707b333665",
   "metadata": {},
   "outputs": [
    {
     "data": {
      "text/plain": [
       "array([[19, 13, 11],\n",
       "       [13, 17, 14]])"
      ]
     },
     "execution_count": 85,
     "metadata": {},
     "output_type": "execute_result"
    }
   ],
   "source": [
    "z[:,c]"
   ]
  },
  {
   "cell_type": "code",
   "execution_count": 87,
   "id": "978f63b7-7140-4a99-836c-65f5f05e2ed7",
   "metadata": {},
   "outputs": [
    {
     "data": {
      "text/plain": [
       "array([[19, 13, 11],\n",
       "       [13, 17, 14]])"
      ]
     },
     "execution_count": 87,
     "metadata": {},
     "output_type": "execute_result"
    }
   ],
   "source": [
    "y[r][:,c]"
   ]
  },
  {
   "cell_type": "code",
   "execution_count": 91,
   "id": "eabc7d13-97d3-400f-9a98-d5950c995c0b",
   "metadata": {},
   "outputs": [
    {
     "data": {
      "text/plain": [
       "array([[16, 10, 18, 13, 17],\n",
       "       [13, 19, 14, 13, 11],\n",
       "       [10, 12, 12, 19, 13],\n",
       "       [19, 10, 13, 18, 19],\n",
       "       [14, 17, 15, 17, 18],\n",
       "       [12, 13, 16, 17, 14]])"
      ]
     },
     "execution_count": 91,
     "metadata": {},
     "output_type": "execute_result"
    }
   ],
   "source": [
    "y"
   ]
  },
  {
   "cell_type": "code",
   "execution_count": 97,
   "id": "c1938b4e-8628-4db2-9450-9ba5763369ec",
   "metadata": {},
   "outputs": [
    {
     "data": {
      "text/plain": [
       "array([[1000,   10, 1000,   13, 1000],\n",
       "       [  13, 1000,   14,   13,   11],\n",
       "       [  10,   12,   12, 1000,   13],\n",
       "       [1000,   10,   13, 1000, 1000],\n",
       "       [  14, 1000,   15, 1000, 1000],\n",
       "       [  12,   13, 1000, 1000,   14]])"
      ]
     },
     "execution_count": 97,
     "metadata": {},
     "output_type": "execute_result"
    }
   ],
   "source": [
    "y[y>15]=1000\n",
    "y"
   ]
  },
  {
   "cell_type": "code",
   "execution_count": 101,
   "id": "9f378930-344f-47d3-a707-0c59ace74319",
   "metadata": {},
   "outputs": [
    {
     "data": {
      "text/plain": [
       "array([[1000,   10, 1000, 5000, 1000],\n",
       "       [5000, 1000, 5000, 5000,   11],\n",
       "       [  10,   12,   12, 1000, 5000],\n",
       "       [1000,   10, 5000, 1000, 1000],\n",
       "       [5000, 1000, 5000, 1000, 1000],\n",
       "       [  12, 5000, 1000, 1000, 5000]])"
      ]
     },
     "execution_count": 101,
     "metadata": {},
     "output_type": "execute_result"
    }
   ],
   "source": [
    "y[(y>12) &(y<18)]=5000\n",
    "y"
   ]
  },
  {
   "cell_type": "code",
   "execution_count": 103,
   "id": "391443ac-15be-4b88-a967-0425f2acbd06",
   "metadata": {},
   "outputs": [],
   "source": [
    "#2nd way"
   ]
  },
  {
   "cell_type": "code",
   "execution_count": 107,
   "id": "7b4ab29f-49c4-4748-ba72-59c5b614b5ee",
   "metadata": {},
   "outputs": [
    {
     "data": {
      "text/plain": [
       "(array([0, 0, 0, 0, 1, 1, 1, 1, 2, 2, 3, 3, 3, 3, 4, 4, 4, 4, 4, 5, 5, 5,\n",
       "        5], dtype=int64),\n",
       " array([0, 2, 3, 4, 0, 1, 2, 3, 3, 4, 0, 2, 3, 4, 0, 1, 2, 3, 4, 1, 2, 3,\n",
       "        4], dtype=int64))"
      ]
     },
     "execution_count": 107,
     "metadata": {},
     "output_type": "execute_result"
    }
   ],
   "source": [
    "t=np.where(y>40)\n",
    "t"
   ]
  },
  {
   "cell_type": "code",
   "execution_count": 109,
   "id": "0ea4c22f-0ae2-4a2e-983d-414be3e81317",
   "metadata": {},
   "outputs": [
    {
     "data": {
      "text/plain": [
       "array([[5000, 4000, 5000, 5000, 5000],\n",
       "       [5000, 5000, 5000, 5000, 4000],\n",
       "       [4000, 4000, 4000, 5000, 5000],\n",
       "       [5000, 4000, 5000, 5000, 5000],\n",
       "       [5000, 5000, 5000, 5000, 5000],\n",
       "       [4000, 5000, 5000, 5000, 5000]])"
      ]
     },
     "execution_count": 109,
     "metadata": {},
     "output_type": "execute_result"
    }
   ],
   "source": [
    "np.where(y>40,5000,4000)"
   ]
  },
  {
   "cell_type": "code",
   "execution_count": 111,
   "id": "6f3f938f-5b76-46da-87ba-cf75f4f5d064",
   "metadata": {},
   "outputs": [
    {
     "data": {
      "text/plain": [
       "array([[5000,   10, 5000, 5000, 5000],\n",
       "       [5000, 5000, 5000, 5000,   11],\n",
       "       [  10,   12,   12, 5000, 5000],\n",
       "       [5000,   10, 5000, 5000, 5000],\n",
       "       [5000, 5000, 5000, 5000, 5000],\n",
       "       [  12, 5000, 5000, 5000, 5000]])"
      ]
     },
     "execution_count": 111,
     "metadata": {},
     "output_type": "execute_result"
    }
   ],
   "source": [
    "np.where(y>40,5000,y)"
   ]
  },
  {
   "cell_type": "code",
   "execution_count": 115,
   "id": "82b37d6e-259b-448b-92f8-baaf2db56075",
   "metadata": {},
   "outputs": [
    {
     "data": {
      "text/plain": [
       "array([2, 5, 6])"
      ]
     },
     "execution_count": 115,
     "metadata": {},
     "output_type": "execute_result"
    }
   ],
   "source": [
    "x=np.array([2,5,6])\n",
    "x"
   ]
  },
  {
   "cell_type": "code",
   "execution_count": 117,
   "id": "54b45118-bf4a-430f-a539-4e17b7c3e2c5",
   "metadata": {},
   "outputs": [
    {
     "data": {
      "text/plain": [
       "array([2., 5., 6.])"
      ]
     },
     "execution_count": 117,
     "metadata": {},
     "output_type": "execute_result"
    }
   ],
   "source": [
    "x.astype(float)"
   ]
  },
  {
   "cell_type": "code",
   "execution_count": 119,
   "id": "74c26fbf-2346-4b12-9a3f-413c8c89ca6f",
   "metadata": {},
   "outputs": [
    {
     "data": {
      "text/plain": [
       "array([2, 5, 6], dtype=object)"
      ]
     },
     "execution_count": 119,
     "metadata": {},
     "output_type": "execute_result"
    }
   ],
   "source": [
    "x.astype('O')"
   ]
  },
  {
   "cell_type": "code",
   "execution_count": 125,
   "id": "41ada711-b67b-448c-a39e-5085261ddd93",
   "metadata": {},
   "outputs": [
    {
     "data": {
      "text/plain": [
       "array([[15, 18, 14, 10, 19],\n",
       "       [10, 13, 18, 13, 16],\n",
       "       [13, 16, 13, 19, 10],\n",
       "       [13, 15, 10, 13, 18]])"
      ]
     },
     "execution_count": 125,
     "metadata": {},
     "output_type": "execute_result"
    }
   ],
   "source": [
    "z=np.random.randint(10,20,size=(4,5))\n",
    "z"
   ]
  },
  {
   "cell_type": "code",
   "execution_count": 127,
   "id": "200a1cdc-c197-40f9-ba83-a740504e8580",
   "metadata": {},
   "outputs": [
    {
     "data": {
      "text/plain": [
       "(4, 5)"
      ]
     },
     "execution_count": 127,
     "metadata": {},
     "output_type": "execute_result"
    }
   ],
   "source": [
    "z.shape"
   ]
  },
  {
   "cell_type": "code",
   "execution_count": 129,
   "id": "51f7cd94-cee7-434b-a45a-adbc06ea285c",
   "metadata": {},
   "outputs": [
    {
     "data": {
      "text/plain": [
       "array([[15, 18],\n",
       "       [14, 10],\n",
       "       [19, 10],\n",
       "       [13, 18],\n",
       "       [13, 16],\n",
       "       [13, 16],\n",
       "       [13, 19],\n",
       "       [10, 13],\n",
       "       [15, 10],\n",
       "       [13, 18]])"
      ]
     },
     "execution_count": 129,
     "metadata": {},
     "output_type": "execute_result"
    }
   ],
   "source": [
    "z.reshape(10,2)"
   ]
  },
  {
   "cell_type": "code",
   "execution_count": 131,
   "id": "cf090ee2-9b70-460f-be2e-bda20676d9b6",
   "metadata": {},
   "outputs": [
    {
     "data": {
      "text/plain": [
       "array([[[15, 18, 14, 10, 19],\n",
       "        [10, 13, 18, 13, 16]],\n",
       "\n",
       "       [[13, 16, 13, 19, 10],\n",
       "        [13, 15, 10, 13, 18]]])"
      ]
     },
     "execution_count": 131,
     "metadata": {},
     "output_type": "execute_result"
    }
   ],
   "source": [
    "z.reshape(2,2,5)"
   ]
  },
  {
   "cell_type": "code",
   "execution_count": 133,
   "id": "90f2c71d-e598-4795-8dcb-da46f54cfd0b",
   "metadata": {},
   "outputs": [
    {
     "data": {
      "text/plain": [
       "array([14, 10, 11, 19, 16, 11, 17, 17, 14, 15])"
      ]
     },
     "execution_count": 133,
     "metadata": {},
     "output_type": "execute_result"
    }
   ],
   "source": [
    "m=np.random.randint(10,20,size=10)\n",
    "m"
   ]
  },
  {
   "cell_type": "code",
   "execution_count": 137,
   "id": "9c67ddc2-0c59-4331-9f04-9503d7c16e8f",
   "metadata": {},
   "outputs": [
    {
     "data": {
      "text/plain": [
       "array([[14, 10, 11, 19, 16],\n",
       "       [11, 17, 17, 14, 15]])"
      ]
     },
     "execution_count": 137,
     "metadata": {},
     "output_type": "execute_result"
    }
   ],
   "source": [
    "m.reshape(2,-1) #unkonwn (-1)"
   ]
  },
  {
   "cell_type": "code",
   "execution_count": null,
   "id": "bf6e2b21-ad35-4c97-8fdc-c269e87f334c",
   "metadata": {},
   "outputs": [],
   "source": []
  }
 ],
 "metadata": {
  "kernelspec": {
   "display_name": "Python 3 (ipykernel)",
   "language": "python",
   "name": "python3"
  },
  "language_info": {
   "codemirror_mode": {
    "name": "ipython",
    "version": 3
   },
   "file_extension": ".py",
   "mimetype": "text/x-python",
   "name": "python",
   "nbconvert_exporter": "python",
   "pygments_lexer": "ipython3",
   "version": "3.12.4"
  }
 },
 "nbformat": 4,
 "nbformat_minor": 5
}
