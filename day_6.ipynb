{
 "cells": [
  {
   "cell_type": "code",
   "execution_count": 1,
   "id": "804c048f-db73-4d68-9d32-4451b06efc53",
   "metadata": {},
   "outputs": [],
   "source": [
    "import numpy as np"
   ]
  },
  {
   "cell_type": "code",
   "execution_count": 3,
   "id": "d6f42932-f163-47d6-a3d4-45126a01c65d",
   "metadata": {},
   "outputs": [
    {
     "data": {
      "text/plain": [
       "array([12, 34, 56])"
      ]
     },
     "execution_count": 3,
     "metadata": {},
     "output_type": "execute_result"
    }
   ],
   "source": [
    "a=np.array([12,34,56])\n",
    "a"
   ]
  },
  {
   "cell_type": "code",
   "execution_count": 5,
   "id": "3069e512-81b3-421e-8fd7-2775f3922e4d",
   "metadata": {},
   "outputs": [
    {
     "data": {
      "text/plain": [
       "3"
      ]
     },
     "execution_count": 5,
     "metadata": {},
     "output_type": "execute_result"
    }
   ],
   "source": [
    "a.size"
   ]
  },
  {
   "cell_type": "code",
   "execution_count": 7,
   "id": "dc2647de-3742-4870-b20f-09698f0281bf",
   "metadata": {},
   "outputs": [
    {
     "data": {
      "text/plain": [
       "4"
      ]
     },
     "execution_count": 7,
     "metadata": {},
     "output_type": "execute_result"
    }
   ],
   "source": [
    "a.itemsize"
   ]
  },
  {
   "cell_type": "code",
   "execution_count": 9,
   "id": "171ece67-ff26-42bb-b4b6-2c41895d3e51",
   "metadata": {},
   "outputs": [],
   "source": [
    "#nbytes---->"
   ]
  },
  {
   "cell_type": "code",
   "execution_count": 11,
   "id": "919c57e3-a0eb-4c92-8379-cd18a70813f1",
   "metadata": {},
   "outputs": [
    {
     "data": {
      "text/plain": [
       "12"
      ]
     },
     "execution_count": 11,
     "metadata": {},
     "output_type": "execute_result"
    }
   ],
   "source": [
    "a.nbytes"
   ]
  },
  {
   "cell_type": "code",
   "execution_count": 13,
   "id": "0a00631f-8161-4394-996a-7680e6c6e03a",
   "metadata": {},
   "outputs": [],
   "source": [
    "#append()\n",
    "#insert()\n",
    "#delete()"
   ]
  },
  {
   "cell_type": "code",
   "execution_count": 15,
   "id": "9cb14495-bb72-42d6-804a-85e164a43f11",
   "metadata": {},
   "outputs": [
    {
     "data": {
      "text/plain": [
       "array([11, 19, 18, 17, 12, 13, 17, 13, 19, 15])"
      ]
     },
     "execution_count": 15,
     "metadata": {},
     "output_type": "execute_result"
    }
   ],
   "source": [
    "x=np.random.randint(10,20,size=10)\n",
    "x"
   ]
  },
  {
   "cell_type": "code",
   "execution_count": 19,
   "id": "6833789a-2a80-41b5-8f7d-5f406c0499e7",
   "metadata": {},
   "outputs": [
    {
     "data": {
      "text/plain": [
       "array([  11,   19,   18,   17,   12,   13,   17,   13,   19,   15, 1000])"
      ]
     },
     "execution_count": 19,
     "metadata": {},
     "output_type": "execute_result"
    }
   ],
   "source": [
    "np.append(x,1000)"
   ]
  },
  {
   "cell_type": "code",
   "execution_count": 21,
   "id": "f6284928-f1bb-487f-aa9f-21d3c4ae9637",
   "metadata": {},
   "outputs": [
    {
     "data": {
      "text/plain": [
       "array([ 11,  19,  18,  17,  12,  13,  17,  13,  19,  15,  52, 622,  77,\n",
       "        88])"
      ]
     },
     "execution_count": 21,
     "metadata": {},
     "output_type": "execute_result"
    }
   ],
   "source": [
    "np.append(x,[52,622,77,88])"
   ]
  },
  {
   "cell_type": "code",
   "execution_count": 23,
   "id": "e1187d41-aba7-489b-ac72-e9887285496d",
   "metadata": {},
   "outputs": [
    {
     "data": {
      "text/plain": [
       "array([[16, 14, 13, 16, 16],\n",
       "       [19, 11, 10, 16, 18],\n",
       "       [13, 14, 11, 18, 14],\n",
       "       [19, 18, 16, 14, 16]])"
      ]
     },
     "execution_count": 23,
     "metadata": {},
     "output_type": "execute_result"
    }
   ],
   "source": [
    "y=np.random.randint(10,20,size=(4,5))\n",
    "y"
   ]
  },
  {
   "cell_type": "code",
   "execution_count": 27,
   "id": "5c64d242-c64a-47a7-8b65-96ee72d5681e",
   "metadata": {},
   "outputs": [
    {
     "data": {
      "text/plain": [
       "array([  16,   14,   13,   16,   16,   19,   11,   10,   16,   18,   13,\n",
       "         14,   11,   18,   14,   19,   18,   16,   14,   16, 1000])"
      ]
     },
     "execution_count": 27,
     "metadata": {},
     "output_type": "execute_result"
    }
   ],
   "source": [
    "np.append(y,1000) # it will be in 1d array"
   ]
  },
  {
   "cell_type": "code",
   "execution_count": 33,
   "id": "1dba312d-0c87-4843-8a19-b7663a8540eb",
   "metadata": {},
   "outputs": [
    {
     "data": {
      "text/plain": [
       "array([[16, 14, 13, 16, 16],\n",
       "       [19, 11, 10, 16, 18],\n",
       "       [13, 14, 11, 18, 14],\n",
       "       [19, 18, 16, 14, 16],\n",
       "       [10, 20, 30, 50, 40]])"
      ]
     },
     "execution_count": 33,
     "metadata": {},
     "output_type": "execute_result"
    }
   ],
   "source": [
    "np.append(y,[[10,20,30,50,40]],axis=0) # axis-0=>row,axis-1=>col"
   ]
  },
  {
   "cell_type": "code",
   "execution_count": 39,
   "id": "d00cc8ee-0a8d-4ecd-ad4a-b669187dd519",
   "metadata": {},
   "outputs": [
    {
     "data": {
      "text/plain": [
       "array([[16, 14, 13, 16, 16],\n",
       "       [19, 11, 10, 16, 18],\n",
       "       [13, 14, 11, 18, 14],\n",
       "       [19, 18, 16, 14, 16],\n",
       "       [11, 16, 10, 15, 15],\n",
       "       [16, 19, 13, 18, 16]])"
      ]
     },
     "execution_count": 39,
     "metadata": {},
     "output_type": "execute_result"
    }
   ],
   "source": [
    "np.append(y,np.random.randint(10,20,size=(2,5)),axis=0)"
   ]
  },
  {
   "cell_type": "code",
   "execution_count": 41,
   "id": "654b94b3-367f-41c6-b903-3e63dff76756",
   "metadata": {},
   "outputs": [
    {
     "data": {
      "text/plain": [
       "array([[16, 14, 13, 16, 16],\n",
       "       [19, 11, 10, 16, 18],\n",
       "       [13, 14, 11, 18, 14],\n",
       "       [19, 18, 16, 14, 16]])"
      ]
     },
     "execution_count": 41,
     "metadata": {},
     "output_type": "execute_result"
    }
   ],
   "source": [
    "y"
   ]
  },
  {
   "cell_type": "code",
   "execution_count": 45,
   "id": "ae42353f-de85-4e8c-bfd4-fbcc5b61cab7",
   "metadata": {},
   "outputs": [
    {
     "data": {
      "text/plain": [
       "array([[ 16,  14,  13,  16,  16, 162],\n",
       "       [ 19,  11,  10,  16,  18, 131],\n",
       "       [ 13,  14,  11,  18,  14, 106],\n",
       "       [ 19,  18,  16,  14,  16, 115]])"
      ]
     },
     "execution_count": 45,
     "metadata": {},
     "output_type": "execute_result"
    }
   ],
   "source": [
    "np.append(y,np.random.randint(100,200,size=(4,1)),axis=1)"
   ]
  },
  {
   "cell_type": "code",
   "execution_count": 50,
   "id": "29ca43fd-022d-4f72-a030-33d2aec3d61a",
   "metadata": {},
   "outputs": [],
   "source": [
    "#insert in 1d array"
   ]
  },
  {
   "cell_type": "code",
   "execution_count": 54,
   "id": "ea41e2f1-d688-47ce-837d-637c1e2ecf44",
   "metadata": {},
   "outputs": [
    {
     "data": {
      "text/plain": [
       "array([188, 154, 174, 142, 140, 146, 149, 163, 183, 161])"
      ]
     },
     "execution_count": 54,
     "metadata": {},
     "output_type": "execute_result"
    }
   ],
   "source": [
    "z=np.random.randint(100,200,size=10)\n",
    "z"
   ]
  },
  {
   "cell_type": "code",
   "execution_count": 56,
   "id": "966c135f-ce84-40a1-9622-200e6dfcee5a",
   "metadata": {},
   "outputs": [
    {
     "data": {
      "text/plain": [
       "array([ 188,  154, 1000,  174,  142,  140,  146,  149,  163,  183,  161])"
      ]
     },
     "execution_count": 56,
     "metadata": {},
     "output_type": "execute_result"
    }
   ],
   "source": [
    "np.insert(z,2,1000)"
   ]
  },
  {
   "cell_type": "code",
   "execution_count": 58,
   "id": "9f127469-3dd7-47fa-a3f9-6054f397e3b7",
   "metadata": {},
   "outputs": [
    {
     "data": {
      "text/plain": [
       "array([188, 154,  55,  66,  88,  99, 174, 142, 140, 146, 149, 163, 183,\n",
       "       161])"
      ]
     },
     "execution_count": 58,
     "metadata": {},
     "output_type": "execute_result"
    }
   ],
   "source": [
    "np.insert(z,2,[55,66,88,99])"
   ]
  },
  {
   "cell_type": "code",
   "execution_count": 60,
   "id": "cb39da29-9713-4bf4-8605-b2c736e18c30",
   "metadata": {},
   "outputs": [
    {
     "data": {
      "text/plain": [
       "array([[105, 118, 186, 184, 121],\n",
       "       [167, 165, 172, 197, 167],\n",
       "       [140, 194, 107, 189, 194],\n",
       "       [102, 103, 191, 134, 115]])"
      ]
     },
     "execution_count": 60,
     "metadata": {},
     "output_type": "execute_result"
    }
   ],
   "source": [
    "m=np.random.randint(100,200,size=(4,5))\n",
    "m"
   ]
  },
  {
   "cell_type": "code",
   "execution_count": 62,
   "id": "be5c960e-9798-4114-b5ea-37316b0d57b5",
   "metadata": {},
   "outputs": [
    {
     "data": {
      "text/plain": [
       "array([ 105,  118, 1000,  186,  184,  121,  167,  165,  172,  197,  167,\n",
       "        140,  194,  107,  189,  194,  102,  103,  191,  134,  115])"
      ]
     },
     "execution_count": 62,
     "metadata": {},
     "output_type": "execute_result"
    }
   ],
   "source": [
    "np.insert(m,2,1000)"
   ]
  },
  {
   "cell_type": "code",
   "execution_count": 64,
   "id": "e3f46c8c-012f-449f-81f9-8b1126419c5b",
   "metadata": {},
   "outputs": [
    {
     "data": {
      "text/plain": [
       "array([[ 105,  118,  186,  184,  121],\n",
       "       [ 167,  165,  172,  197,  167],\n",
       "       [1000, 1000, 1000, 1000, 1000],\n",
       "       [ 140,  194,  107,  189,  194],\n",
       "       [ 102,  103,  191,  134,  115]])"
      ]
     },
     "execution_count": 64,
     "metadata": {},
     "output_type": "execute_result"
    }
   ],
   "source": [
    "np.insert(m,2,1000,axis=0)"
   ]
  },
  {
   "cell_type": "code",
   "execution_count": 66,
   "id": "8843487d-7dce-4a8a-8287-525f3bddf55a",
   "metadata": {},
   "outputs": [
    {
     "data": {
      "text/plain": [
       "array([[ 105,  118,  186,  184,  121],\n",
       "       [2000, 2000, 2000, 2000, 2000],\n",
       "       [ 167,  165,  172,  197,  167],\n",
       "       [2000, 2000, 2000, 2000, 2000],\n",
       "       [ 140,  194,  107,  189,  194],\n",
       "       [ 102,  103,  191,  134,  115]])"
      ]
     },
     "execution_count": 66,
     "metadata": {},
     "output_type": "execute_result"
    }
   ],
   "source": [
    "np.insert(m,[1,2],2000,axis=0)"
   ]
  },
  {
   "cell_type": "code",
   "execution_count": 68,
   "id": "3f4537d7-988a-4201-8aab-a23b682fa5f0",
   "metadata": {},
   "outputs": [
    {
     "data": {
      "text/plain": [
       "array([[ 105,  118,  186,  184,  121],\n",
       "       [1024, 1895, 1311, 1035, 1180],\n",
       "       [ 167,  165,  172,  197,  167],\n",
       "       [1587, 1414, 1402, 1735, 1499],\n",
       "       [ 140,  194,  107,  189,  194],\n",
       "       [ 102,  103,  191,  134,  115]])"
      ]
     },
     "execution_count": 68,
     "metadata": {},
     "output_type": "execute_result"
    }
   ],
   "source": [
    "np.insert(m,[1,2],np.random.randint(1000,2000,size=(2,5)),axis=0)"
   ]
  },
  {
   "cell_type": "code",
   "execution_count": 70,
   "id": "51a88915-7150-464a-b301-d5d2c82a2073",
   "metadata": {},
   "outputs": [
    {
     "data": {
      "text/plain": [
       "array([[105, 118, 186, 184, 121],\n",
       "       [167, 165, 172, 197, 167],\n",
       "       [140, 194, 107, 189, 194],\n",
       "       [102, 103, 191, 134, 115]])"
      ]
     },
     "execution_count": 70,
     "metadata": {},
     "output_type": "execute_result"
    }
   ],
   "source": [
    "m"
   ]
  },
  {
   "cell_type": "code",
   "execution_count": 72,
   "id": "4e537c4e-98f3-4aa9-ba0b-eac18235bd2a",
   "metadata": {},
   "outputs": [
    {
     "data": {
      "text/plain": [
       "array([[ 105, 1412,  118, 1012,  186,  184,  121],\n",
       "       [ 167, 1608,  165, 1142,  172,  197,  167],\n",
       "       [ 140, 1429,  194, 1435,  107,  189,  194],\n",
       "       [ 102, 1402,  103, 1140,  191,  134,  115]])"
      ]
     },
     "execution_count": 72,
     "metadata": {},
     "output_type": "execute_result"
    }
   ],
   "source": [
    "np.insert(m,[1,2],np.random.randint(1000,2000,size=(4,2)),axis=1)"
   ]
  },
  {
   "cell_type": "code",
   "execution_count": 74,
   "id": "70fb76d6-4ffc-435c-8fa4-b2e0a7f366a3",
   "metadata": {},
   "outputs": [
    {
     "data": {
      "text/plain": [
       "array([[105, 118, 186, 184, 121],\n",
       "       [167, 165, 172, 197, 167],\n",
       "       [140, 194, 107, 189, 194],\n",
       "       [102, 103, 191, 134, 115]])"
      ]
     },
     "execution_count": 74,
     "metadata": {},
     "output_type": "execute_result"
    }
   ],
   "source": [
    "m"
   ]
  },
  {
   "cell_type": "code",
   "execution_count": 78,
   "id": "57a23b80-c75d-4dc2-a66a-dda13d241b4a",
   "metadata": {},
   "outputs": [
    {
     "data": {
      "text/plain": [
       "array([105, 118, 184, 121, 167, 165, 172, 197, 167, 140, 194, 107, 189,\n",
       "       194, 102, 103, 191, 134, 115])"
      ]
     },
     "execution_count": 78,
     "metadata": {},
     "output_type": "execute_result"
    }
   ],
   "source": [
    "np.delete(m,2)"
   ]
  },
  {
   "cell_type": "code",
   "execution_count": 80,
   "id": "c1a9411d-e5e1-4754-bd07-f6060689a790",
   "metadata": {},
   "outputs": [
    {
     "data": {
      "text/plain": [
       "array([[105, 118, 186, 184, 121],\n",
       "       [167, 165, 172, 197, 167],\n",
       "       [102, 103, 191, 134, 115]])"
      ]
     },
     "execution_count": 80,
     "metadata": {},
     "output_type": "execute_result"
    }
   ],
   "source": [
    "np.delete(m,2,axis=0)"
   ]
  },
  {
   "cell_type": "code",
   "execution_count": 86,
   "id": "9a2632af-03a4-4cec-8944-d99cd446ba8e",
   "metadata": {},
   "outputs": [
    {
     "data": {
      "text/plain": [
       "array([12])"
      ]
     },
     "execution_count": 86,
     "metadata": {},
     "output_type": "execute_result"
    }
   ],
   "source": [
    "np.delete(a,[1,2])"
   ]
  },
  {
   "cell_type": "code",
   "execution_count": 88,
   "id": "bad30af1-85ab-4693-ae10-b8462fc44d2b",
   "metadata": {},
   "outputs": [
    {
     "data": {
      "text/plain": [
       "array([[118, 184, 121],\n",
       "       [165, 197, 167],\n",
       "       [194, 189, 194],\n",
       "       [103, 134, 115]])"
      ]
     },
     "execution_count": 88,
     "metadata": {},
     "output_type": "execute_result"
    }
   ],
   "source": [
    "np.delete(m,[0,2],axis=1)"
   ]
  },
  {
   "cell_type": "code",
   "execution_count": 90,
   "id": "022ed81a-7ba1-4e38-8a5c-c7b5fe08cac6",
   "metadata": {},
   "outputs": [
    {
     "data": {
      "text/plain": [
       "array([[0., 0., 0., 0., 0.],\n",
       "       [0., 0., 0., 0., 0.]])"
      ]
     },
     "execution_count": 90,
     "metadata": {},
     "output_type": "execute_result"
    }
   ],
   "source": [
    "np.zeros((2,5))"
   ]
  },
  {
   "cell_type": "code",
   "execution_count": 102,
   "id": "50b52402-1e71-48c2-8aa2-d1455e897f25",
   "metadata": {},
   "outputs": [
    {
     "data": {
      "text/plain": [
       "array([[0, 0, 0, 0, 0],\n",
       "       [0, 0, 0, 0, 0]])"
      ]
     },
     "execution_count": 102,
     "metadata": {},
     "output_type": "execute_result"
    }
   ],
   "source": [
    "np.zeros((2,5),dtype=int)"
   ]
  },
  {
   "cell_type": "code",
   "execution_count": 92,
   "id": "f9da2db6-8b0d-4a5c-9e71-e9e01d3ed0f2",
   "metadata": {},
   "outputs": [
    {
     "data": {
      "text/plain": [
       "array([[1., 1., 1., 1., 1.],\n",
       "       [1., 1., 1., 1., 1.]])"
      ]
     },
     "execution_count": 92,
     "metadata": {},
     "output_type": "execute_result"
    }
   ],
   "source": [
    "np.ones((2,5))"
   ]
  },
  {
   "cell_type": "code",
   "execution_count": 98,
   "id": "fdbfed65-2e11-457b-9f36-24ab59285ff9",
   "metadata": {},
   "outputs": [
    {
     "data": {
      "text/plain": [
       "array([[1., 0., 0.],\n",
       "       [0., 1., 0.],\n",
       "       [0., 0., 1.]])"
      ]
     },
     "execution_count": 98,
     "metadata": {},
     "output_type": "execute_result"
    }
   ],
   "source": [
    "np.identity(3)"
   ]
  },
  {
   "cell_type": "code",
   "execution_count": 116,
   "id": "f950eb22-2492-4328-a973-ab211be909b2",
   "metadata": {},
   "outputs": [
    {
     "data": {
      "text/plain": [
       "array([[[254,  70, 130],\n",
       "        [ 46, 189,  14],\n",
       "        [130, 113, 120],\n",
       "        [ 51,  60, 170],\n",
       "        [241, 112,  45],\n",
       "        [244, 168, 147],\n",
       "        [149, 217, 140],\n",
       "        [ 92,  38,  36],\n",
       "        [ 96, 158, 163],\n",
       "        [ 81,  96,  23],\n",
       "        [169, 200, 151],\n",
       "        [203,   5,  99],\n",
       "        [246, 211, 175],\n",
       "        [173,  85, 201],\n",
       "        [146, 228,  50],\n",
       "        [155, 244,  89],\n",
       "        [210,  22,  71],\n",
       "        [ 73, 184, 159],\n",
       "        [166, 166, 249],\n",
       "        [171, 179, 207]],\n",
       "\n",
       "       [[210, 210,   8],\n",
       "        [ 20,  70, 202],\n",
       "        [252, 182,  71],\n",
       "        [162, 205,  66],\n",
       "        [231, 247,  19],\n",
       "        [ 47, 131,  99],\n",
       "        [ 78, 212, 230],\n",
       "        [102,  58, 255],\n",
       "        [ 58, 186, 248],\n",
       "        [244, 243,  76],\n",
       "        [248,  87, 166],\n",
       "        [ 44, 188,  85],\n",
       "        [ 57, 211, 235],\n",
       "        [  9, 216, 185],\n",
       "        [ 21,  46, 179],\n",
       "        [ 99, 252, 167],\n",
       "        [116, 162,  81],\n",
       "        [103,   1, 235],\n",
       "        [194, 206, 224],\n",
       "        [ 15, 161,  51]],\n",
       "\n",
       "       [[158, 152, 249],\n",
       "        [240,  24, 161],\n",
       "        [237, 168, 163],\n",
       "        [191, 171, 137],\n",
       "        [198,  99, 177],\n",
       "        [231, 162,   3],\n",
       "        [ 97,  48, 153],\n",
       "        [241, 214, 236],\n",
       "        [ 78, 234, 186],\n",
       "        [ 73, 109,  88],\n",
       "        [  1, 180, 135],\n",
       "        [ 85, 189, 174],\n",
       "        [ 82, 169,  79],\n",
       "        [130, 203, 185],\n",
       "        [ 15,  97, 135],\n",
       "        [ 29, 164, 123],\n",
       "        [251, 111,  77],\n",
       "        [139,  27,  62],\n",
       "        [  7, 220,  21],\n",
       "        [117, 233,  65]],\n",
       "\n",
       "       [[111, 209, 187],\n",
       "        [124,  63, 227],\n",
       "        [245, 227, 154],\n",
       "        [197, 218,   7],\n",
       "        [221,  84, 128],\n",
       "        [140, 147,  48],\n",
       "        [184,  93,  18],\n",
       "        [ 99, 101,  75],\n",
       "        [225, 177,  91],\n",
       "        [180, 218,  96],\n",
       "        [ 85,  92, 174],\n",
       "        [ 98, 188,  98],\n",
       "        [205,  73,  73],\n",
       "        [ 91, 221,  33],\n",
       "        [ 37, 227, 127],\n",
       "        [220, 164, 218],\n",
       "        [ 99, 123,   0],\n",
       "        [252, 184, 188],\n",
       "        [162,  32,  61],\n",
       "        [141, 101, 180]],\n",
       "\n",
       "       [[190,  92, 212],\n",
       "        [231, 196,   0],\n",
       "        [164, 169, 104],\n",
       "        [ 73,  51, 115],\n",
       "        [130, 102,  45],\n",
       "        [242, 197,   4],\n",
       "        [162, 224, 108],\n",
       "        [204, 254, 185],\n",
       "        [228, 254, 207],\n",
       "        [ 71, 152,  20],\n",
       "        [173,  42, 247],\n",
       "        [ 11, 126,  82],\n",
       "        [204,  86, 158],\n",
       "        [222, 120,  65],\n",
       "        [ 52,  40, 122],\n",
       "        [ 90, 154, 254],\n",
       "        [ 18, 222, 154],\n",
       "        [ 44, 220, 109],\n",
       "        [135, 129, 150],\n",
       "        [235, 168, 106]],\n",
       "\n",
       "       [[251,  92, 200],\n",
       "        [  3, 196,  91],\n",
       "        [242,  84, 228],\n",
       "        [ 41,  78, 227],\n",
       "        [103,  70, 238],\n",
       "        [180, 217,  91],\n",
       "        [166, 147,  10],\n",
       "        [139, 230, 231],\n",
       "        [ 24,  34,  81],\n",
       "        [ 95,  13,  58],\n",
       "        [219,  12, 176],\n",
       "        [ 78,  15, 196],\n",
       "        [105, 227, 223],\n",
       "        [161,   7,  62],\n",
       "        [ 53,  95, 139],\n",
       "        [124, 195,  81],\n",
       "        [ 78,  65, 163],\n",
       "        [191, 103, 133],\n",
       "        [ 37, 207,  64],\n",
       "        [202, 218, 105]],\n",
       "\n",
       "       [[ 24, 226, 120],\n",
       "        [170, 222, 184],\n",
       "        [137, 195, 210],\n",
       "        [129,  82, 191],\n",
       "        [ 49,  86, 213],\n",
       "        [213, 150,  14],\n",
       "        [190, 201, 120],\n",
       "        [ 94,  44, 227],\n",
       "        [ 76, 149, 139],\n",
       "        [186,  68, 152],\n",
       "        [157, 139, 128],\n",
       "        [175,  76, 168],\n",
       "        [ 15,  96, 190],\n",
       "        [217, 166, 114],\n",
       "        [137,  62,  79],\n",
       "        [168,  70, 138],\n",
       "        [236,  85, 123],\n",
       "        [ 30,  60,  48],\n",
       "        [  6, 254, 100],\n",
       "        [ 32, 148,   6]],\n",
       "\n",
       "       [[  2,   5, 125],\n",
       "        [187, 159, 139],\n",
       "        [ 49, 229, 109],\n",
       "        [ 91, 113,  44],\n",
       "        [ 65, 188, 184],\n",
       "        [128, 195, 216],\n",
       "        [ 93, 234,  67],\n",
       "        [107,  30, 212],\n",
       "        [146, 185,  92],\n",
       "        [ 12, 104,  51],\n",
       "        [ 40, 121,  28],\n",
       "        [202, 156, 181],\n",
       "        [231, 106,   8],\n",
       "        [210, 142, 161],\n",
       "        [ 45, 207,  89],\n",
       "        [ 55, 236, 254],\n",
       "        [202,  67,  78],\n",
       "        [212, 172, 184],\n",
       "        [240,  43,  15],\n",
       "        [127, 231,  43]],\n",
       "\n",
       "       [[  7, 251,  55],\n",
       "        [  2,  42,  29],\n",
       "        [121,  91, 242],\n",
       "        [244,  45,  32],\n",
       "        [ 12, 101, 203],\n",
       "        [194,  38,  91],\n",
       "        [107,  23,  11],\n",
       "        [186,  67, 121],\n",
       "        [218, 133,   4],\n",
       "        [187, 110, 101],\n",
       "        [  2, 105,  61],\n",
       "        [190, 170, 240],\n",
       "        [230, 226,  32],\n",
       "        [  1, 191, 136],\n",
       "        [103, 172,  16],\n",
       "        [123,  91, 228],\n",
       "        [232, 196, 193],\n",
       "        [ 85,  67, 192],\n",
       "        [ 77,  57, 122],\n",
       "        [141, 110, 113]],\n",
       "\n",
       "       [[ 99,  94, 151],\n",
       "        [  9, 107,  18],\n",
       "        [206,  91, 215],\n",
       "        [197, 167, 252],\n",
       "        [ 38, 100, 120],\n",
       "        [ 25, 149, 155],\n",
       "        [219, 249, 105],\n",
       "        [ 16,  52,   4],\n",
       "        [210, 136,  10],\n",
       "        [103,  79,   6],\n",
       "        [229,  51, 251],\n",
       "        [ 62,  13, 225],\n",
       "        [ 14, 194,  84],\n",
       "        [206, 141, 145],\n",
       "        [215, 197,  85],\n",
       "        [216,  43, 240],\n",
       "        [103, 135, 227],\n",
       "        [ 82,  37,  81],\n",
       "        [116, 214,  46],\n",
       "        [247,  64, 143]]])"
      ]
     },
     "execution_count": 116,
     "metadata": {},
     "output_type": "execute_result"
    }
   ],
   "source": [
    "n=np.random.randint(0,256,size=(10,20,3))\n",
    "n"
   ]
  },
  {
   "cell_type": "code",
   "execution_count": 114,
   "id": "ffd66281-9592-4938-91bf-24f09ab50100",
   "metadata": {},
   "outputs": [],
   "source": [
    "import matplotlib.pyplot as plt"
   ]
  },
  {
   "cell_type": "code",
   "execution_count": 118,
   "id": "f999eb9b-71e3-47fe-9245-10f4ae11d3bb",
   "metadata": {},
   "outputs": [
    {
     "data": {
      "text/plain": [
       "<matplotlib.image.AxesImage at 0x11e0c627cb0>"
      ]
     },
     "execution_count": 118,
     "metadata": {},
     "output_type": "execute_result"
    },
    {
     "data": {
      "image/png": "[encoded data removed]",
      "text/plain": [
       "<Figure size 640x480 with 1 Axes>"
      ]
     },
     "metadata": {},
     "output_type": "display_data"
    }
   ],
   "source": [
    "plt.imshow(n)"
   ]
  },
  {
   "cell_type": "code",
   "execution_count": 136,
   "id": "ac3c5c94-ebff-4dbf-bb03-2bb82ce655e0",
   "metadata": {},
   "outputs": [],
   "source": [
    "a=np.random.randint(10,20,size=(3,4))#matrix multiplication\n",
    "b=np.random.randint(10,20,size=(4,3))"
   ]
  },
  {
   "cell_type": "code",
   "execution_count": 132,
   "id": "be9d0cac-9d3f-41a8-b937-8265000bc803",
   "metadata": {},
   "outputs": [
    {
     "data": {
      "text/plain": [
       "array([[811, 756, 754],\n",
       "       [930, 885, 880],\n",
       "       [868, 813, 809]])"
      ]
     },
     "execution_count": 132,
     "metadata": {},
     "output_type": "execute_result"
    }
   ],
   "source": [
    "a.dot(b)"
   ]
  },
  {
   "cell_type": "code",
   "execution_count": 134,
   "id": "99ea1d7c-664b-415c-a5b0-882805492844",
   "metadata": {},
   "outputs": [
    {
     "data": {
      "text/plain": [
       "array([[811, 756, 754],\n",
       "       [930, 885, 880],\n",
       "       [868, 813, 809]])"
      ]
     },
     "execution_count": 134,
     "metadata": {},
     "output_type": "execute_result"
    }
   ],
   "source": [
    "a@b"
   ]
  },
  {
   "cell_type": "code",
   "execution_count": null,
   "id": "b510098d-b208-44ea-8284-afd87cd6385c",
   "metadata": {},
   "outputs": [],
   "source": []
  }
 ],
 "metadata": {
  "kernelspec": {
   "display_name": "Python 3 (ipykernel)",
   "language": "python",
   "name": "python3"
  },
  "language_info": {
   "codemirror_mode": {
    "name": "ipython",
    "version": 3
   },
   "file_extension": ".py",
   "mimetype": "text/x-python",
   "name": "python",
   "nbconvert_exporter": "python",
   "pygments_lexer": "ipython3",
   "version": "3.12.4"
  }
 },
 "nbformat": 4,
 "nbformat_minor": 5
}
