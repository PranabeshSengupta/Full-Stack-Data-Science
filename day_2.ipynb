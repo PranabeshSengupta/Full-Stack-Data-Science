{
 "cells": [
  {
   "cell_type": "code",
   "execution_count": 1,
   "id": "38b5b527-e635-4cc7-9c78-5280fa05e6d6",
   "metadata": {},
   "outputs": [],
   "source": [
    "import numpy as np"
   ]
  },
  {
   "cell_type": "code",
   "execution_count": 7,
   "id": "3fcad2b2-f57a-4fcf-8fef-fa9915161e49",
   "metadata": {},
   "outputs": [
    {
     "data": {
      "text/plain": [
       "array([12, 24, 20])"
      ]
     },
     "execution_count": 7,
     "metadata": {},
     "output_type": "execute_result"
    }
   ],
   "source": [
    "x=np.array([12,24,20])\n",
    "x"
   ]
  },
  {
   "cell_type": "code",
   "execution_count": 9,
   "id": "1a96dfa3-6857-4b53-aad4-f945d500d93b",
   "metadata": {},
   "outputs": [
    {
     "data": {
      "text/plain": [
       "dtype('int32')"
      ]
     },
     "execution_count": 9,
     "metadata": {},
     "output_type": "execute_result"
    }
   ],
   "source": [
    "x.dtype"
   ]
  },
  {
   "cell_type": "code",
   "execution_count": 13,
   "id": "84fdfe8e-62e8-4389-aa8c-a796f2b02d5c",
   "metadata": {},
   "outputs": [
    {
     "data": {
      "text/plain": [
       "[[2, 8], [5, 8, 9]]"
      ]
     },
     "execution_count": 13,
     "metadata": {},
     "output_type": "execute_result"
    }
   ],
   "source": [
    "y=[[2,8],[5,8,9]]\n",
    "y"
   ]
  },
  {
   "cell_type": "code",
   "execution_count": 19,
   "id": "0638b21b-f7be-407b-8d56-573a2ac676db",
   "metadata": {},
   "outputs": [],
   "source": [
    "#x=np.array([[2,8],[5,8,9]])   #it will give an array because array is homogeneous(by shape)"
   ]
  },
  {
   "cell_type": "code",
   "execution_count": 21,
   "id": "34780b39-37e2-4323-982b-21af2441bb81",
   "metadata": {},
   "outputs": [],
   "source": [
    "#creating array--->\n"
   ]
  },
  {
   "cell_type": "code",
   "execution_count": 23,
   "id": "ed3bda7f-7900-4eb2-87b3-dd505d6fed06",
   "metadata": {},
   "outputs": [],
   "source": [
    "#1.using array()\n",
    "#2.using arange()\n",
    "#3.linespace\n",
    "#4.random"
   ]
  },
  {
   "cell_type": "code",
   "execution_count": 33,
   "id": "bc39dc31-77fa-4807-b544-1ff89bd04fb5",
   "metadata": {},
   "outputs": [
    {
     "data": {
      "text/plain": [
       "array([10. , 10.2, 10.4, 10.6, 10.8, 11. , 11.2, 11.4, 11.6, 11.8, 12. ,\n",
       "       12.2, 12.4, 12.6, 12.8, 13. , 13.2, 13.4, 13.6, 13.8, 14. , 14.2,\n",
       "       14.4, 14.6, 14.8, 15. , 15.2, 15.4, 15.6, 15.8, 16. , 16.2, 16.4,\n",
       "       16.6, 16.8, 17. , 17.2, 17.4, 17.6, 17.8, 18. , 18.2, 18.4, 18.6,\n",
       "       18.8, 19. , 19.2, 19.4, 19.6, 19.8])"
      ]
     },
     "execution_count": 33,
     "metadata": {},
     "output_type": "execute_result"
    }
   ],
   "source": [
    "np.arange(10,20,0.2) #we said the common difference"
   ]
  },
  {
   "cell_type": "code",
   "execution_count": 35,
   "id": "0bfb1f38-4865-4b6f-9d8e-26560d93218a",
   "metadata": {},
   "outputs": [
    {
     "data": {
      "text/plain": [
       "array([10.        , 10.20408163, 10.40816327, 10.6122449 , 10.81632653,\n",
       "       11.02040816, 11.2244898 , 11.42857143, 11.63265306, 11.83673469,\n",
       "       12.04081633, 12.24489796, 12.44897959, 12.65306122, 12.85714286,\n",
       "       13.06122449, 13.26530612, 13.46938776, 13.67346939, 13.87755102,\n",
       "       14.08163265, 14.28571429, 14.48979592, 14.69387755, 14.89795918,\n",
       "       15.10204082, 15.30612245, 15.51020408, 15.71428571, 15.91836735,\n",
       "       16.12244898, 16.32653061, 16.53061224, 16.73469388, 16.93877551,\n",
       "       17.14285714, 17.34693878, 17.55102041, 17.75510204, 17.95918367,\n",
       "       18.16326531, 18.36734694, 18.57142857, 18.7755102 , 18.97959184,\n",
       "       19.18367347, 19.3877551 , 19.59183673, 19.79591837, 20.        ])"
      ]
     },
     "execution_count": 35,
     "metadata": {},
     "output_type": "execute_result"
    }
   ],
   "source": [
    "np.linspace(10,20) #we do not said the common difference(difference is done by numpy)"
   ]
  },
  {
   "cell_type": "code",
   "execution_count": 37,
   "id": "5a225c87-2701-402b-8357-50c6bdc07dfc",
   "metadata": {},
   "outputs": [],
   "source": [
    "x=range(1,5)"
   ]
  },
  {
   "cell_type": "code",
   "execution_count": 39,
   "id": "94638c6b-b522-4f6c-9282-ed063cdeb591",
   "metadata": {},
   "outputs": [
    {
     "data": {
      "text/plain": [
       "range(1, 5)"
      ]
     },
     "execution_count": 39,
     "metadata": {},
     "output_type": "execute_result"
    }
   ],
   "source": [
    "x"
   ]
  },
  {
   "cell_type": "code",
   "execution_count": 43,
   "id": "4165d450-bfd6-4535-9b93-076005bddb0d",
   "metadata": {},
   "outputs": [
    {
     "data": {
      "text/plain": [
       "[1, 2, 3, 4]"
      ]
     },
     "execution_count": 43,
     "metadata": {},
     "output_type": "execute_result"
    }
   ],
   "source": [
    "list(x)"
   ]
  },
  {
   "cell_type": "code",
   "execution_count": 45,
   "id": "28b89507-5e50-4aa7-bf76-c51adb73146a",
   "metadata": {},
   "outputs": [
    {
     "data": {
      "text/plain": [
       "2222848293072"
      ]
     },
     "execution_count": 45,
     "metadata": {},
     "output_type": "execute_result"
    }
   ],
   "source": [
    "id(x)"
   ]
  },
  {
   "cell_type": "code",
   "execution_count": 47,
   "id": "9041ee09-b2fe-49a4-84b9-8258887b896f",
   "metadata": {},
   "outputs": [
    {
     "data": {
      "text/plain": [
       "0.9634459542311238"
      ]
     },
     "execution_count": 47,
     "metadata": {},
     "output_type": "execute_result"
    }
   ],
   "source": [
    "np.random.rand()"
   ]
  },
  {
   "cell_type": "code",
   "execution_count": 49,
   "id": "406c3635-e403-4dfa-8f6e-77734ee0623c",
   "metadata": {},
   "outputs": [
    {
     "data": {
      "text/plain": [
       "array([0.53832956, 0.86430767, 0.41054881, 0.41053571, 0.88329165,\n",
       "       0.46083621, 0.14720243, 0.98015916, 0.98765091, 0.4464198 ])"
      ]
     },
     "execution_count": 49,
     "metadata": {},
     "output_type": "execute_result"
    }
   ],
   "source": [
    "np.random.rand(10)"
   ]
  },
  {
   "cell_type": "code",
   "execution_count": 51,
   "id": "a8508d00-32cd-4b3d-b887-1dfbce1c5377",
   "metadata": {},
   "outputs": [
    {
     "data": {
      "text/plain": [
       "array([[0.8970584 , 0.68314568, 0.71767813, 0.12461964],\n",
       "       [0.58742336, 0.41534189, 0.39719467, 0.34141423],\n",
       "       [0.76255521, 0.71881192, 0.3383093 , 0.7754861 ],\n",
       "       [0.38793405, 0.67964613, 0.69192816, 0.11915267]])"
      ]
     },
     "execution_count": 51,
     "metadata": {},
     "output_type": "execute_result"
    }
   ],
   "source": [
    "np.random.rand(4,4)"
   ]
  },
  {
   "cell_type": "code",
   "execution_count": 61,
   "id": "6f61c327-b0c9-4a25-a9d2-2160ec135e7d",
   "metadata": {},
   "outputs": [
    {
     "data": {
      "text/plain": [
       "array([16, 14, 19,  3,  8,  8, 16,  6,  8,  5])"
      ]
     },
     "execution_count": 61,
     "metadata": {},
     "output_type": "execute_result"
    }
   ],
   "source": [
    "np.random.randint(20,size=10)"
   ]
  },
  {
   "cell_type": "code",
   "execution_count": 63,
   "id": "6aa414dc-494a-4049-bf54-b6fb15269c26",
   "metadata": {},
   "outputs": [
    {
     "data": {
      "text/plain": [
       "array([[12, 11, 14, 16,  4],\n",
       "       [ 7, 14, 11,  4,  3],\n",
       "       [10, 12, 16, 19, 11]])"
      ]
     },
     "execution_count": 63,
     "metadata": {},
     "output_type": "execute_result"
    }
   ],
   "source": [
    "np.random.randint(20,size=(3,5))"
   ]
  },
  {
   "cell_type": "code",
   "execution_count": 65,
   "id": "862b4344-63f8-41ef-b1a2-b13c995d6d53",
   "metadata": {},
   "outputs": [
    {
     "data": {
      "text/plain": [
       "array([[[14, 17, 11, 10],\n",
       "        [11, 14, 17, 10],\n",
       "        [15, 15, 19, 18],\n",
       "        [19, 10, 13, 10],\n",
       "        [15, 14, 14, 15]],\n",
       "\n",
       "       [[12, 14, 17, 19],\n",
       "        [12, 19, 18, 10],\n",
       "        [16, 10, 19, 16],\n",
       "        [18, 17, 11, 11],\n",
       "        [15, 13, 18, 12]],\n",
       "\n",
       "       [[12, 14, 19, 14],\n",
       "        [19, 18, 18, 17],\n",
       "        [10, 13, 15, 14],\n",
       "        [11, 10, 15, 17],\n",
       "        [19, 11, 18, 14]]])"
      ]
     },
     "execution_count": 65,
     "metadata": {},
     "output_type": "execute_result"
    }
   ],
   "source": [
    "np.random.randint(10,20,size=(3,5,4))\n"
   ]
  },
  {
   "cell_type": "code",
   "execution_count": 69,
   "id": "f098d550-b12b-45d0-8b96-e412ff8132a6",
   "metadata": {},
   "outputs": [
    {
     "data": {
      "text/plain": [
       "(array([  2.,   3.,  34., 113., 232., 276., 204., 101.,  31.,   4.]),\n",
       " array([-3.96075478, -3.2407856 , -2.52081643, -1.80084725, -1.08087808,\n",
       "        -0.3609089 ,  0.35906027,  1.07902945,  1.79899862,  2.5189678 ,\n",
       "         3.23893697]),\n",
       " <BarContainer object of 10 artists>)"
      ]
     },
     "execution_count": 69,
     "metadata": {},
     "output_type": "execute_result"
    },
    {
     "data": {
      "image/png": "[encoded data removed]",
      "text/plain": [
       "<Figure size 640x480 with 1 Axes>"
      ]
     },
     "metadata": {},
     "output_type": "display_data"
    }
   ],
   "source": [
    "import matplotlib.pyplot as plt\n",
    "x=np.random.normal(size=1000)\n",
    "plt.hist(x)"
   ]
  },
  {
   "cell_type": "code",
   "execution_count": 71,
   "id": "413e6636-8403-414c-9b86-b6f672798351",
   "metadata": {},
   "outputs": [
    {
     "data": {
      "text/plain": [
       "(array([105.,  98., 107., 117.,  95.,  94., 118.,  92.,  87.,  87.]),\n",
       " array([8.35426158e-04, 1.00632085e-01, 2.00428743e-01, 3.00225402e-01,\n",
       "        4.00022060e-01, 4.99818718e-01, 5.99615377e-01, 6.99412035e-01,\n",
       "        7.99208694e-01, 8.99005352e-01, 9.98802011e-01]),\n",
       " <BarContainer object of 10 artists>)"
      ]
     },
     "execution_count": 71,
     "metadata": {},
     "output_type": "execute_result"
    },
    {
     "data": {
      "image/png": "[encoded data removed]",
      "text/plain": [
       "<Figure size 640x480 with 1 Axes>"
      ]
     },
     "metadata": {},
     "output_type": "display_data"
    }
   ],
   "source": [
    "x=np.random.uniform(size=1000)\n",
    "plt.hist(x)"
   ]
  },
  {
   "cell_type": "code",
   "execution_count": null,
   "id": "12fa579b-f9fd-4f0c-9afd-3720a45661d4",
   "metadata": {},
   "outputs": [],
   "source": []
  }
 ],
 "metadata": {
  "kernelspec": {
   "display_name": "Python 3 (ipykernel)",
   "language": "python",
   "name": "python3"
  },
  "language_info": {
   "codemirror_mode": {
    "name": "ipython",
    "version": 3
   },
   "file_extension": ".py",
   "mimetype": "text/x-python",
   "name": "python",
   "nbconvert_exporter": "python",
   "pygments_lexer": "ipython3",
   "version": "3.12.4"
  }
 },
 "nbformat": 4,
 "nbformat_minor": 5
}
