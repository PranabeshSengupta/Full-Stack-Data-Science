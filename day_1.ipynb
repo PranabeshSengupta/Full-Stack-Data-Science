{
 "cells": [
  {
   "cell_type": "code",
   "execution_count": 1,
   "id": "9ee3f217-9932-4699-882d-5abdc09bec39",
   "metadata": {},
   "outputs": [
    {
     "name": "stdout",
     "output_type": "stream",
     "text": [
      "hello\n"
     ]
    }
   ],
   "source": [
    "print(\"hello\")"
   ]
  },
  {
   "cell_type": "code",
   "execution_count": 3,
   "id": "ef0ac28d-33e4-4280-bf96-3a2f14519d20",
   "metadata": {},
   "outputs": [
    {
     "name": "stdout",
     "output_type": "stream",
     "text": [
      "12\n",
      "13\n",
      "41\n",
      "25\n",
      "84\n",
      "55\n"
     ]
    }
   ],
   "source": [
    "x=[12,13,41,25,84,55]\n",
    "for i in x:\n",
    "    print(i)"
   ]
  },
  {
   "cell_type": "code",
   "execution_count": 13,
   "id": "32544e66-2a34-49df-be74-1666b346b571",
   "metadata": {},
   "outputs": [
    {
     "data": {
      "text/plain": [
       "array([20, 30, 40, 50])"
      ]
     },
     "execution_count": 13,
     "metadata": {},
     "output_type": "execute_result"
    }
   ],
   "source": [
    "#1 way--->\n",
    "import numpy as np\n",
    "x=np.array([10,20,30,40]) #static method ,no need to create object\n",
    "x+10   #scaler operation"
   ]
  },
  {
   "cell_type": "code",
   "execution_count": 11,
   "id": "a9517b7e-cbf1-4fcc-8a59-6f805302b4e7",
   "metadata": {},
   "outputs": [
    {
     "data": {
      "text/plain": [
       "array([30, 50, 70])"
      ]
     },
     "execution_count": 11,
     "metadata": {},
     "output_type": "execute_result"
    }
   ],
   "source": [
    "a=np.array([10,20,30])\n",
    "b=np.array([20,30,40])\n",
    "a+b"
   ]
  },
  {
   "cell_type": "code",
   "execution_count": 15,
   "id": "4f8048a4-b235-4691-9fb5-a48d72722464",
   "metadata": {},
   "outputs": [
    {
     "data": {
      "text/plain": [
       "[0, 1, 2, 3, 4]"
      ]
     },
     "execution_count": 15,
     "metadata": {},
     "output_type": "execute_result"
    }
   ],
   "source": [
    "#2 way----->\n",
    "list(range(5))  #range return list(only int value can be produce)"
   ]
  },
  {
   "cell_type": "code",
   "execution_count": 19,
   "id": "d3d15ae6-11d8-49a6-b5cd-0fb36b95ae33",
   "metadata": {},
   "outputs": [
    {
     "data": {
      "text/plain": [
       "array([0, 1, 2, 3, 4])"
      ]
     },
     "execution_count": 19,
     "metadata": {},
     "output_type": "execute_result"
    }
   ],
   "source": [
    "np.arange(5)   #arange returns an array(float value can be produce)"
   ]
  },
  {
   "cell_type": "code",
   "execution_count": 23,
   "id": "c038d7c0-811f-4fa9-8167-0d5c657bdbb6",
   "metadata": {},
   "outputs": [
    {
     "data": {
      "text/plain": [
       "array([1.5, 2.5, 3.5, 4.5])"
      ]
     },
     "execution_count": 23,
     "metadata": {},
     "output_type": "execute_result"
    }
   ],
   "source": [
    "p=np.arange(1.5,4.6)\n",
    "p"
   ]
  },
  {
   "cell_type": "code",
   "execution_count": 29,
   "id": "29d9e24d-58f2-413c-a2fd-2574a7c0db7d",
   "metadata": {},
   "outputs": [
    {
     "data": {
      "text/plain": [
       "array([10. , 12.5, 15. , 17.5, 20. ])"
      ]
     },
     "execution_count": 29,
     "metadata": {},
     "output_type": "execute_result"
    }
   ],
   "source": [
    "#3 way-------------->\n",
    "x=np.linspace(10,20,5)   #com\n",
    "x"
   ]
  },
  {
   "cell_type": "code",
   "execution_count": 31,
   "id": "2d25ec27-7c98-4c84-8e3c-5f8aee25cdb1",
   "metadata": {},
   "outputs": [
    {
     "data": {
      "text/plain": [
       "array([10.        , 10.20408163, 10.40816327, 10.6122449 , 10.81632653,\n",
       "       11.02040816, 11.2244898 , 11.42857143, 11.63265306, 11.83673469,\n",
       "       12.04081633, 12.24489796, 12.44897959, 12.65306122, 12.85714286,\n",
       "       13.06122449, 13.26530612, 13.46938776, 13.67346939, 13.87755102,\n",
       "       14.08163265, 14.28571429, 14.48979592, 14.69387755, 14.89795918,\n",
       "       15.10204082, 15.30612245, 15.51020408, 15.71428571, 15.91836735,\n",
       "       16.12244898, 16.32653061, 16.53061224, 16.73469388, 16.93877551,\n",
       "       17.14285714, 17.34693878, 17.55102041, 17.75510204, 17.95918367,\n",
       "       18.16326531, 18.36734694, 18.57142857, 18.7755102 , 18.97959184,\n",
       "       19.18367347, 19.3877551 , 19.59183673, 19.79591837, 20.        ])"
      ]
     },
     "execution_count": 31,
     "metadata": {},
     "output_type": "execute_result"
    }
   ],
   "source": [
    "x=np.linspace(10,20)\n",
    "x"
   ]
  },
  {
   "cell_type": "code",
   "execution_count": 33,
   "id": "59b5bb76-4f2c-4fc4-96df-fc601215b2b8",
   "metadata": {},
   "outputs": [
    {
     "data": {
      "text/plain": [
       "50"
      ]
     },
     "execution_count": 33,
     "metadata": {},
     "output_type": "execute_result"
    }
   ],
   "source": [
    "len(x)"
   ]
  },
  {
   "cell_type": "code",
   "execution_count": 49,
   "id": "a921b967-6443-400f-8070-323a14e4ba24",
   "metadata": {},
   "outputs": [
    {
     "data": {
      "text/plain": [
       "array([[[0.99998104, 0.69121552],\n",
       "        [0.86221979, 0.26834351]],\n",
       "\n",
       "       [[0.92775778, 0.19628841],\n",
       "        [0.52754321, 0.03992263]]])"
      ]
     },
     "execution_count": 49,
     "metadata": {},
     "output_type": "execute_result"
    }
   ],
   "source": [
    "#4th way using random number----->\n",
    "np.random.rand(10)\n",
    "np.random.rand(2,2,2)\n"
   ]
  },
  {
   "cell_type": "code",
   "execution_count": 62,
   "id": "d669bfda-0323-4c02-8e98-b411de27b824",
   "metadata": {},
   "outputs": [
    {
     "data": {
      "text/plain": [
       "19"
      ]
     },
     "execution_count": 62,
     "metadata": {},
     "output_type": "execute_result"
    }
   ],
   "source": [
    "np.random.randint(30)"
   ]
  },
  {
   "cell_type": "code",
   "execution_count": 72,
   "id": "5028c63b-23c1-4589-9594-0d23ff368a8a",
   "metadata": {},
   "outputs": [
    {
     "data": {
      "text/plain": [
       "16"
      ]
     },
     "execution_count": 72,
     "metadata": {},
     "output_type": "execute_result"
    }
   ],
   "source": [
    "np.random.randint(10,20)+1"
   ]
  },
  {
   "cell_type": "code",
   "execution_count": 5,
   "id": "9a9824ea-e56d-4753-b894-bd5a961d5245",
   "metadata": {},
   "outputs": [
    {
     "data": {
      "text/plain": [
       "(array([2.100e+01, 1.990e+02, 8.240e+02, 2.180e+03, 3.012e+03, 2.472e+03,\n",
       "        1.007e+03, 2.560e+02, 2.600e+01, 3.000e+00]),\n",
       " array([-3.63731957, -2.84714487, -2.05697017, -1.26679548, -0.47662078,\n",
       "         0.31355392,  1.10372862,  1.89390331,  2.68407801,  3.47425271,\n",
       "         4.26442741]),\n",
       " <BarContainer object of 10 artists>)"
      ]
     },
     "execution_count": 5,
     "metadata": {},
     "output_type": "execute_result"
    },
    {
     "data": {
      "image/png": "[encoded data removed]",
      "text/plain": [
       "<Figure size 640x480 with 1 Axes>"
      ]
     },
     "metadata": {},
     "output_type": "display_data"
    }
   ],
   "source": [
    "import matplotlib.pyplot as plt\n",
    "import numpy as np\n",
    "x=np.random.randn(10000)\n",
    "plt.hist(x)"
   ]
  },
  {
   "cell_type": "code",
   "execution_count": 7,
   "id": "13edd908-3ee0-47dd-8d8b-8a62e83b56f4",
   "metadata": {},
   "outputs": [
    {
     "data": {
      "text/plain": [
       "-0.013174215849423779"
      ]
     },
     "execution_count": 7,
     "metadata": {},
     "output_type": "execute_result"
    }
   ],
   "source": [
    "np.mean(x)"
   ]
  },
  {
   "cell_type": "code",
   "execution_count": 9,
   "id": "5181eda6-5424-4c04-a910-5ee8234364ec",
   "metadata": {},
   "outputs": [
    {
     "data": {
      "text/plain": [
       "0.9991370088742114"
      ]
     },
     "execution_count": 9,
     "metadata": {},
     "output_type": "execute_result"
    }
   ],
   "source": [
    "np.std(x)"
   ]
  },
  {
   "cell_type": "code",
   "execution_count": 11,
   "id": "e4d1698d-0eca-4fe7-813a-da68dab99cc9",
   "metadata": {},
   "outputs": [
    {
     "data": {
      "text/plain": [
       "(array([   6.,   59.,  331., 1160., 2322., 2913., 2131.,  860.,  187.,\n",
       "          31.]),\n",
       " array([-4.06732171, -3.31002875, -2.55273579, -1.79544283, -1.03814987,\n",
       "        -0.28085691,  0.47643605,  1.23372901,  1.99102197,  2.74831493,\n",
       "         3.50560789]),\n",
       " <BarContainer object of 10 artists>)"
      ]
     },
     "execution_count": 11,
     "metadata": {},
     "output_type": "execute_result"
    },
    {
     "data": {
      "image/png": "[encoded data removed]",
      "text/plain": [
       "<Figure size 640x480 with 1 Axes>"
      ]
     },
     "metadata": {},
     "output_type": "display_data"
    }
   ],
   "source": [
    "y=np.random.normal(size=10000)\n",
    "plt.hist(y)"
   ]
  },
  {
   "cell_type": "code",
   "execution_count": 13,
   "id": "8a052207-8895-4cd3-b758-0bab572357ca",
   "metadata": {},
   "outputs": [
    {
     "data": {
      "text/plain": [
       "(array([   4.,   35.,  295., 1046., 2419., 3034., 2073.,  847.,  213.,\n",
       "          34.]),\n",
       " array([29.42843406, 33.23787692, 37.04731978, 40.85676263, 44.66620549,\n",
       "        48.47564835, 52.28509121, 56.09453406, 59.90397692, 63.71341978,\n",
       "        67.52286264]),\n",
       " <BarContainer object of 10 artists>)"
      ]
     },
     "execution_count": 13,
     "metadata": {},
     "output_type": "execute_result"
    },
    {
     "data": {
      "image/png": "[encoded data removed]",
      "text/plain": [
       "<Figure size 640x480 with 1 Axes>"
      ]
     },
     "metadata": {},
     "output_type": "display_data"
    }
   ],
   "source": [
    "y=np.random.normal(loc=50,scale=5,size=10000)\n",
    "plt.hist(y)"
   ]
  },
  {
   "cell_type": "code",
   "execution_count": 15,
   "id": "b36d5d38-a682-4d8b-89aa-c498d4d90cc3",
   "metadata": {},
   "outputs": [
    {
     "data": {
      "text/plain": [
       "dtype('int32')"
      ]
     },
     "execution_count": 15,
     "metadata": {},
     "output_type": "execute_result"
    }
   ],
   "source": [
    "#properties of numpy array\n",
    "x=np.array([10,20,30])\n",
    "x.dtype"
   ]
  },
  {
   "cell_type": "code",
   "execution_count": 17,
   "id": "a5fd070d-d6c6-48b9-a5e4-178268092dfc",
   "metadata": {},
   "outputs": [
    {
     "data": {
      "text/plain": [
       "1"
      ]
     },
     "execution_count": 17,
     "metadata": {},
     "output_type": "execute_result"
    }
   ],
   "source": [
    "x.ndim"
   ]
  },
  {
   "cell_type": "code",
   "execution_count": 23,
   "id": "4a1e0a72-94b5-448e-9ed9-cb33d17748bb",
   "metadata": {},
   "outputs": [
    {
     "data": {
      "text/plain": [
       "array([[11, 16, 15, 11, 14],\n",
       "       [12, 18, 11, 17, 11],\n",
       "       [15, 19, 11, 10, 17],\n",
       "       [18, 12, 12, 15, 15]])"
      ]
     },
     "execution_count": 23,
     "metadata": {},
     "output_type": "execute_result"
    }
   ],
   "source": [
    "z=np.random.randint(10,20,size=(4,5))\n",
    "z"
   ]
  },
  {
   "cell_type": "code",
   "execution_count": 25,
   "id": "8915c91b-88f6-49d1-b6f5-30a11c082a0b",
   "metadata": {},
   "outputs": [
    {
     "data": {
      "text/plain": [
       "(4, 5)"
      ]
     },
     "execution_count": 25,
     "metadata": {},
     "output_type": "execute_result"
    }
   ],
   "source": [
    "z.shape"
   ]
  },
  {
   "cell_type": "code",
   "execution_count": 27,
   "id": "c3f10f99-98ee-4cca-ad38-05f9c90bac26",
   "metadata": {},
   "outputs": [
    {
     "data": {
      "text/plain": [
       "20"
      ]
     },
     "execution_count": 27,
     "metadata": {},
     "output_type": "execute_result"
    }
   ],
   "source": [
    "z.size"
   ]
  },
  {
   "cell_type": "code",
   "execution_count": 29,
   "id": "b42984eb-cda1-45f9-bd15-bf318a1e996b",
   "metadata": {},
   "outputs": [
    {
     "data": {
      "text/plain": [
       "4"
      ]
     },
     "execution_count": 29,
     "metadata": {},
     "output_type": "execute_result"
    }
   ],
   "source": [
    "#item size-> number of bytes token by each item\n",
    "x=np.array([1,2,3])\n",
    "x.itemsize"
   ]
  },
  {
   "cell_type": "code",
   "execution_count": 31,
   "id": "3048a6a9-c465-441e-8cde-ef49d2efbec4",
   "metadata": {},
   "outputs": [
    {
     "data": {
      "text/plain": [
       "8"
      ]
     },
     "execution_count": 31,
     "metadata": {},
     "output_type": "execute_result"
    }
   ],
   "source": [
    "x=np.array([1,5.2,3])\n",
    "x.itemsize"
   ]
  },
  {
   "cell_type": "code",
   "execution_count": 37,
   "id": "0c8c70dd-2d1a-42c1-b68c-bd5249d2d867",
   "metadata": {},
   "outputs": [
    {
     "data": {
      "text/plain": [
       "136"
      ]
     },
     "execution_count": 37,
     "metadata": {},
     "output_type": "execute_result"
    }
   ],
   "source": [
    "import sys\n",
    "s1=sys.getsizeof(x)\n",
    "s1"
   ]
  },
  {
   "cell_type": "code",
   "execution_count": 39,
   "id": "01d40491-828f-4f1e-a4d4-693dcaec0387",
   "metadata": {},
   "outputs": [
    {
     "data": {
      "text/plain": [
       "24"
      ]
     },
     "execution_count": 39,
     "metadata": {},
     "output_type": "execute_result"
    }
   ],
   "source": [
    "x.size*x.itemsize"
   ]
  },
  {
   "cell_type": "code",
   "execution_count": 41,
   "id": "7a31672b-f95b-47c0-aa58-1d04670bda2b",
   "metadata": {},
   "outputs": [
    {
     "data": {
      "text/plain": [
       "24"
      ]
     },
     "execution_count": 41,
     "metadata": {},
     "output_type": "execute_result"
    }
   ],
   "source": [
    "x.nbytes"
   ]
  },
  {
   "cell_type": "code",
   "execution_count": 43,
   "id": "266630de-7040-4c81-ad43-cf19d15502a0",
   "metadata": {},
   "outputs": [
    {
     "data": {
      "text/plain": [
       "160"
      ]
     },
     "execution_count": 43,
     "metadata": {},
     "output_type": "execute_result"
    }
   ],
   "source": [
    "#total size of  array\n",
    "s1+x.nbytes"
   ]
  },
  {
   "cell_type": "code",
   "execution_count": 45,
   "id": "eaa7e159-7925-4c7a-9151-0f70c397e11c",
   "metadata": {},
   "outputs": [
    {
     "data": {
      "text/plain": [
       "96"
      ]
     },
     "execution_count": 45,
     "metadata": {},
     "output_type": "execute_result"
    }
   ],
   "source": [
    "sum([sys.getsizeof(i) for i in x])"
   ]
  },
  {
   "cell_type": "code",
   "execution_count": 55,
   "id": "329712f3-350a-4c9a-9b47-18028669c317",
   "metadata": {},
   "outputs": [
    {
     "data": {
      "text/plain": [
       "0.013499736785888672"
      ]
     },
     "execution_count": 55,
     "metadata": {},
     "output_type": "execute_result"
    }
   ],
   "source": [
    "import time\n",
    "x=range(100000)\n",
    "y=range(100000)\n",
    "start=time.time()\n",
    "sum([i+j for i,j in zip(x,y)])\n",
    "end=time.time()\n",
    "end-start"
   ]
  },
  {
   "cell_type": "code",
   "execution_count": 65,
   "id": "ec6a1dd1-2795-4f0a-9a90-d9b0c61fe989",
   "metadata": {},
   "outputs": [
    {
     "data": {
      "text/plain": [
       "0.0060045719146728516"
      ]
     },
     "execution_count": 65,
     "metadata": {},
     "output_type": "execute_result"
    }
   ],
   "source": [
    "start=time.time()\n",
    "a=np.arange(100000)\n",
    "b=np.arange(100000)\n",
    "s=a+b\n",
    "s.sum()\n",
    "end=time.time()\n",
    "end-start"
   ]
  },
  {
   "cell_type": "code",
   "execution_count": null,
   "id": "e8a16f38-68c2-4760-a1e0-61d281da9250",
   "metadata": {},
   "outputs": [],
   "source": []
  }
 ],
 "metadata": {
  "kernelspec": {
   "display_name": "Python 3 (ipykernel)",
   "language": "python",
   "name": "python3"
  },
  "language_info": {
   "codemirror_mode": {
    "name": "ipython",
    "version": 3
   },
   "file_extension": ".py",
   "mimetype": "text/x-python",
   "name": "python",
   "nbconvert_exporter": "python",
   "pygments_lexer": "ipython3",
   "version": "3.12.4"
  }
 },
 "nbformat": 4,
 "nbformat_minor": 5
}
